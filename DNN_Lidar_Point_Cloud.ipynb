{
  "nbformat": 4,
  "nbformat_minor": 0,
  "metadata": {
    "colab": {
      "name": "DNN_Lidar_Point_Cloud.ipynb",
      "version": "0.3.2",
      "provenance": [],
      "collapsed_sections": [],
      "include_colab_link": true
    },
    "kernelspec": {
      "display_name": "Python 3",
      "language": "python",
      "name": "python3"
    },
    "accelerator": "GPU"
  },
  "cells": [
    {
      "cell_type": "markdown",
      "metadata": {
        "id": "view-in-github",
        "colab_type": "text"
      },
      "source": [
        "[View in Colaboratory](https://colab.research.google.com/github/sayakgis/Handwritten_Digit_Prediction_DL/blob/master/DNN_Lidar_Point_Cloud.ipynb)"
      ]
    },
    {
      "metadata": {
        "id": "7Ug50WRG9Fxw",
        "colab_type": "text"
      },
      "cell_type": "markdown",
      "source": [
        "# Deep Learning Model to Classify Lidar Point cloud"
      ]
    },
    {
      "metadata": {
        "id": "CngJevSw-K4L",
        "colab_type": "text"
      },
      "cell_type": "markdown",
      "source": [
        "**Install LASPY libraries: las file handler in python**"
      ]
    },
    {
      "metadata": {
        "id": "4zc-c4ci9IFY",
        "colab_type": "code",
        "colab": {}
      },
      "cell_type": "code",
      "source": [
        "!pip install laspy --quiet   #quiet installation will not throw message"
      ],
      "execution_count": 0,
      "outputs": []
    },
    {
      "metadata": {
        "id": "3zTXxiwU-gMW",
        "colab_type": "text"
      },
      "cell_type": "markdown",
      "source": [
        "**Connect Google drive, we have stored the data in google drive**\n",
        "\n",
        "This will ask for one time token code to acees data from google drive, google account sign-in is required.\n",
        "Click on the link and get the token, copy and paste the token here"
      ]
    },
    {
      "metadata": {
        "id": "1LW2gHNjFtui",
        "colab_type": "code",
        "colab": {
          "base_uri": "https://localhost:8080/",
          "height": 105
        },
        "outputId": "f15a057b-f76f-4b56-a5c5-5c49a6eedf31"
      },
      "cell_type": "code",
      "source": [
        "#Set-up google drive\n",
        "!apt-get install -y -qq software-properties-common python-software-properties module-init-tools\n",
        "!add-apt-repository -y ppa:alessandro-strada/ppa 2>&1 > /dev/null\n",
        "!apt-get update -qq 2>&1 > /dev/null\n",
        "!apt-get -y install -qq google-drive-ocamlfuse fuse\n",
        "from google.colab import auth\n",
        "auth.authenticate_user()\n",
        "from oauth2client.client import GoogleCredentials\n",
        "creds = GoogleCredentials.get_application_default()\n",
        "import getpass\n",
        "!google-drive-ocamlfuse -headless -id={creds.client_id} -secret={creds.client_secret} < /dev/null 2>&1 | grep URL\n",
        "vcode = getpass.getpass()\n",
        "!echo {vcode} | google-drive-ocamlfuse -headless -id={creds.client_id} -secret={creds.client_secret}"
      ],
      "execution_count": 4,
      "outputs": [
        {
          "output_type": "stream",
          "text": [
            "Please, open the following URL in a web browser: https://accounts.google.com/o/oauth2/auth?client_id=32555940559.apps.googleusercontent.com&redirect_uri=urn%3Aietf%3Awg%3Aoauth%3A2.0%3Aoob&scope=https%3A%2F%2Fwww.googleapis.com%2Fauth%2Fdrive&response_type=code&access_type=offline&approval_prompt=force\r\n",
            "··········\n",
            "Please, open the following URL in a web browser: https://accounts.google.com/o/oauth2/auth?client_id=32555940559.apps.googleusercontent.com&redirect_uri=urn%3Aietf%3Awg%3Aoauth%3A2.0%3Aoob&scope=https%3A%2F%2Fwww.googleapis.com%2Fauth%2Fdrive&response_type=code&access_type=offline&approval_prompt=force\n",
            "Please enter the verification code: Access token retrieved correctly.\n"
          ],
          "name": "stdout"
        }
      ]
    },
    {
      "metadata": {
        "id": "bxl9dz0p_jBx",
        "colab_type": "text"
      },
      "cell_type": "markdown",
      "source": [
        "**Mount the google storage as drive here**"
      ]
    },
    {
      "metadata": {
        "id": "vwagFjYvGJuc",
        "colab_type": "code",
        "colab": {}
      },
      "cell_type": "code",
      "source": [
        "!mkdir -p drive\n",
        "!google-drive-ocamlfuse drive"
      ],
      "execution_count": 0,
      "outputs": []
    },
    {
      "metadata": {
        "id": "OxGWcJpH_tjO",
        "colab_type": "text"
      },
      "cell_type": "markdown",
      "source": [
        "**Import required packages**"
      ]
    },
    {
      "metadata": {
        "id": "hVZcLnM5FK8W",
        "colab_type": "code",
        "colab": {}
      },
      "cell_type": "code",
      "source": [
        "from laspy.file import File\n",
        "import laspy\n",
        "import numpy as np\n",
        "import pandas as pd\n",
        "from sklearn.model_selection import train_test_split\n",
        "from sklearn.preprocessing import StandardScaler\n",
        "from tensorflow.python.keras.models import Sequential\n",
        "from tensorflow.python.keras.layers import Dense,Dropout"
      ],
      "execution_count": 0,
      "outputs": []
    },
    {
      "metadata": {
        "id": "CxpVm8jcBsh7",
        "colab_type": "text"
      },
      "cell_type": "markdown",
      "source": [
        "**Lets check the content of folder**"
      ]
    },
    {
      "metadata": {
        "id": "oqakUKCmA_2l",
        "colab_type": "code",
        "colab": {
          "base_uri": "https://localhost:8080/",
          "height": 34
        },
        "outputId": "52a9a325-31df-40b0-8d99-fae8b0dc5326"
      },
      "cell_type": "code",
      "source": [
        "file_list=!ls drive/Data_Deep_Learning/Lidar\n",
        "file_list\n"
      ],
      "execution_count": 127,
      "outputs": [
        {
          "output_type": "execute_result",
          "data": {
            "text/plain": [
              "['5480_2945.las', '5480_2950.las', '5480_2960.las', '5480_3170.las']"
            ]
          },
          "metadata": {
            "tags": []
          },
          "execution_count": 127
        }
      ]
    },
    {
      "metadata": {
        "id": "h9_NbweYiZkS",
        "colab_type": "code",
        "colab": {}
      },
      "cell_type": "code",
      "source": [
        "import glob\n",
        "las_files=glob.glob('drive/Data_Deep_Learning/Lidar/*las')\n",
        "\n",
        "classification=[]\n",
        "count_returns,return_num=[],[]\n",
        "intensity=[]\n",
        "x,y,z=[],[],[]\n",
        "\n",
        "for las_file in las_files:\n",
        "  fh=File(las_file,mode='r')\n",
        "  classification.append(fh.classification)\n",
        "  count_returns.append(fh.num_returns)\n",
        "  return_num.append(fh.return_num)\n",
        "  intensity.append(fh.intensity)\n",
        "  x.append(fh.x)\n",
        "  y.append(fh.y)\n",
        "  z.append(fh.z)\n",
        "  df_train=pd.DataFrame({'class':classification[0]})"
      ],
      "execution_count": 0,
      "outputs": []
    },
    {
      "metadata": {
        "id": "ypKU6s70xayZ",
        "colab_type": "code",
        "colab": {
          "base_uri": "https://localhost:8080/",
          "height": 34
        },
        "outputId": "df247a14-27b4-45f8-e9db-c94dfab089a9"
      },
      "cell_type": "code",
      "source": [
        "df_train.shape"
      ],
      "execution_count": 140,
      "outputs": [
        {
          "output_type": "execute_result",
          "data": {
            "text/plain": [
              "(8073627, 1)"
            ]
          },
          "metadata": {
            "tags": []
          },
          "execution_count": 140
        }
      ]
    },
    {
      "metadata": {
        "id": "OVb2HhoCwT9W",
        "colab_type": "code",
        "colab": {
          "base_uri": "https://localhost:8080/",
          "height": 34
        },
        "outputId": "e50ab23b-7b17-47e5-e0af-ff92d20b09f3"
      },
      "cell_type": "code",
      "source": [
        "classification[1].shape"
      ],
      "execution_count": 136,
      "outputs": [
        {
          "output_type": "execute_result",
          "data": {
            "text/plain": [
              "(6197601,)"
            ]
          },
          "metadata": {
            "tags": []
          },
          "execution_count": 136
        }
      ]
    },
    {
      "metadata": {
        "id": "8osgufQpwR0c",
        "colab_type": "text"
      },
      "cell_type": "markdown",
      "source": [
        "test"
      ]
    },
    {
      "metadata": {
        "id": "jPtRzA4OsAGR",
        "colab_type": "code",
        "colab": {}
      },
      "cell_type": "code",
      "source": [
        "import glob\n",
        "las_files=glob.glob('drive/Data_Deep_Learning/Lidar/*las')\n",
        "\n",
        "classification=[]\n",
        "count_returns,return_num=[],[]\n",
        "intensity=[]\n",
        "x,y,z=[],[],[]\n",
        "\n",
        "for las_file in las_files:\n",
        "  fh=File(las_file,mode='r')\n",
        "  df_train=pd.DataFrame({'class':fh.classification})"
      ],
      "execution_count": 0,
      "outputs": []
    },
    {
      "metadata": {
        "id": "VR20hPxTsSpB",
        "colab_type": "code",
        "colab": {
          "base_uri": "https://localhost:8080/",
          "height": 34
        },
        "outputId": "4ea9e95e-77f1-4b38-cbb2-9444f45af7ff"
      },
      "cell_type": "code",
      "source": [
        "df_train.shape"
      ],
      "execution_count": 126,
      "outputs": [
        {
          "output_type": "execute_result",
          "data": {
            "text/plain": [
              "(5037028, 1)"
            ]
          },
          "metadata": {
            "tags": []
          },
          "execution_count": 126
        }
      ]
    },
    {
      "metadata": {
        "id": "3V1JCKYgCEpY",
        "colab_type": "text"
      },
      "cell_type": "markdown",
      "source": [
        "**Load the LAS files**"
      ]
    },
    {
      "metadata": {
        "id": "faHBHwpxDRux",
        "colab_type": "code",
        "colab": {}
      },
      "cell_type": "code",
      "source": [
        "train_5480_2945=File('drive/Data_Deep_Learning/Lidar/5480_2945.las',mode='r')\n",
        "train_5480_2950=File('drive/Data_Deep_Learning/Lidar/5480_2950.las',mode='r')\n",
        "train_5480_2960=File('drive/Data_Deep_Learning/Lidar/5480_2960.las',mode='r')\n",
        "train_5480_3170=File('drive/Data_Deep_Learning/Lidar/5480_3170.las',mode='r')"
      ],
      "execution_count": 0,
      "outputs": []
    },
    {
      "metadata": {
        "id": "quUJHEBAFK8l",
        "colab_type": "code",
        "colab": {}
      },
      "cell_type": "code",
      "source": [
        "df1=pd.DataFrame({'returns':train_5480_2945.num_returns,\n",
        "                  'class':train_5480_2945.classification,\n",
        "                  'intensity':train_5480_2945.intensity,\n",
        "                  'z':train_5480_2945.z,\n",
        "                  'x':train_5480_2945.x,'y':train_5480_2945.y,\n",
        "                  'return_count':train_5480_2945.return_num})\n",
        "\n",
        "df2=pd.DataFrame({'returns':train_5480_2950.num_returns,\n",
        "                  'class':train_5480_2950.classification,\n",
        "                  'intensity':train_5480_2950.intensity,\n",
        "                  'z':train_5480_2950.z,\n",
        "                  'x':train_5480_2950.x,'y':train_5480_2950.y,\n",
        "                  'return_count':train_5480_2950.return_num})\n",
        "df3=pd.DataFrame({'returns':train_5480_2960.num_returns,\n",
        "                  'class':train_5480_2960.classification,\n",
        "                  'intensity':train_5480_2960.intensity,\n",
        "                  'z':train_5480_2960.z,\n",
        "                  'x':train_5480_2960.x,'y':train_5480_2960.y,\n",
        "                  'return_count':train_5480_2960.return_num})\n",
        "df4=pd.DataFrame({'returns':train_5480_3170.num_returns,\n",
        "                  'class':train_5480_3170.classification,\n",
        "                  'intensity':train_5480_3170.intensity,\n",
        "                  'z':train_5480_3170.z,\n",
        "                  'x':train_5480_3170.x,'y':train_5480_3170.y,\n",
        "                  'return_count':train_5480_3170.return_num})"
      ],
      "execution_count": 0,
      "outputs": []
    },
    {
      "metadata": {
        "id": "feWlmSN0uDF6",
        "colab_type": "code",
        "colab": {}
      },
      "cell_type": "code",
      "source": [
        "df=pd.concat([df1,df2,df3,df4],0)"
      ],
      "execution_count": 0,
      "outputs": []
    },
    {
      "metadata": {
        "id": "qMGTh9AL0N6w",
        "colab_type": "code",
        "colab": {
          "base_uri": "https://localhost:8080/",
          "height": 34
        },
        "outputId": "5cbfe3b2-b9b0-40ef-b5e0-b62c9f9400fe"
      },
      "cell_type": "code",
      "source": [
        "df.shape"
      ],
      "execution_count": 147,
      "outputs": [
        {
          "output_type": "execute_result",
          "data": {
            "text/plain": [
              "(24500250, 7)"
            ]
          },
          "metadata": {
            "tags": []
          },
          "execution_count": 147
        }
      ]
    },
    {
      "metadata": {
        "id": "oddYcWHeFK8u",
        "colab_type": "code",
        "colab": {
          "base_uri": "https://localhost:8080/",
          "height": 297
        },
        "outputId": "f5577b9f-be03-47c3-fa85-d980af5b8739"
      },
      "cell_type": "code",
      "source": [
        "df.pivot_table(values='returns',index='class')"
      ],
      "execution_count": 148,
      "outputs": [
        {
          "output_type": "execute_result",
          "data": {
            "text/html": [
              "<div>\n",
              "<style scoped>\n",
              "    .dataframe tbody tr th:only-of-type {\n",
              "        vertical-align: middle;\n",
              "    }\n",
              "\n",
              "    .dataframe tbody tr th {\n",
              "        vertical-align: top;\n",
              "    }\n",
              "\n",
              "    .dataframe thead th {\n",
              "        text-align: right;\n",
              "    }\n",
              "</style>\n",
              "<table border=\"1\" class=\"dataframe\">\n",
              "  <thead>\n",
              "    <tr style=\"text-align: right;\">\n",
              "      <th></th>\n",
              "      <th>returns</th>\n",
              "    </tr>\n",
              "    <tr>\n",
              "      <th>class</th>\n",
              "      <th></th>\n",
              "    </tr>\n",
              "  </thead>\n",
              "  <tbody>\n",
              "    <tr>\n",
              "      <th>2</th>\n",
              "      <td>1.419535</td>\n",
              "    </tr>\n",
              "    <tr>\n",
              "      <th>4</th>\n",
              "      <td>2.045255</td>\n",
              "    </tr>\n",
              "    <tr>\n",
              "      <th>6</th>\n",
              "      <td>1.158790</td>\n",
              "    </tr>\n",
              "    <tr>\n",
              "      <th>7</th>\n",
              "      <td>1.635375</td>\n",
              "    </tr>\n",
              "    <tr>\n",
              "      <th>8</th>\n",
              "      <td>3.431263</td>\n",
              "    </tr>\n",
              "    <tr>\n",
              "      <th>17</th>\n",
              "      <td>1.424756</td>\n",
              "    </tr>\n",
              "    <tr>\n",
              "      <th>18</th>\n",
              "      <td>2.045242</td>\n",
              "    </tr>\n",
              "  </tbody>\n",
              "</table>\n",
              "</div>"
            ],
            "text/plain": [
              "        returns\n",
              "class          \n",
              "2      1.419535\n",
              "4      2.045255\n",
              "6      1.158790\n",
              "7      1.635375\n",
              "8      3.431263\n",
              "17     1.424756\n",
              "18     2.045242"
            ]
          },
          "metadata": {
            "tags": []
          },
          "execution_count": 148
        }
      ]
    },
    {
      "metadata": {
        "id": "zPZSDw-dFK9J",
        "colab_type": "code",
        "colab": {}
      },
      "cell_type": "code",
      "source": [
        "y=df1['class']\n",
        "X=df1.drop('class',axis=1)\n",
        "ss=StandardScaler()\n",
        "ss.fit(X)\n",
        "X_std=ss.transform(X)"
      ],
      "execution_count": 0,
      "outputs": []
    },
    {
      "metadata": {
        "id": "mEEhU2u1FK9M",
        "colab_type": "code",
        "colab": {
          "base_uri": "https://localhost:8080/",
          "height": 204
        },
        "outputId": "ec974e16-fa76-4ed2-97a7-7541e693cdfc"
      },
      "cell_type": "code",
      "source": [
        "y_hot=pd.get_dummies(y)\n",
        "y_hot.head()"
      ],
      "execution_count": 150,
      "outputs": [
        {
          "output_type": "execute_result",
          "data": {
            "text/html": [
              "<div>\n",
              "<style scoped>\n",
              "    .dataframe tbody tr th:only-of-type {\n",
              "        vertical-align: middle;\n",
              "    }\n",
              "\n",
              "    .dataframe tbody tr th {\n",
              "        vertical-align: top;\n",
              "    }\n",
              "\n",
              "    .dataframe thead th {\n",
              "        text-align: right;\n",
              "    }\n",
              "</style>\n",
              "<table border=\"1\" class=\"dataframe\">\n",
              "  <thead>\n",
              "    <tr style=\"text-align: right;\">\n",
              "      <th></th>\n",
              "      <th>2</th>\n",
              "      <th>4</th>\n",
              "      <th>6</th>\n",
              "      <th>7</th>\n",
              "      <th>8</th>\n",
              "      <th>17</th>\n",
              "      <th>18</th>\n",
              "    </tr>\n",
              "  </thead>\n",
              "  <tbody>\n",
              "    <tr>\n",
              "      <th>0</th>\n",
              "      <td>0</td>\n",
              "      <td>1</td>\n",
              "      <td>0</td>\n",
              "      <td>0</td>\n",
              "      <td>0</td>\n",
              "      <td>0</td>\n",
              "      <td>0</td>\n",
              "    </tr>\n",
              "    <tr>\n",
              "      <th>1</th>\n",
              "      <td>0</td>\n",
              "      <td>1</td>\n",
              "      <td>0</td>\n",
              "      <td>0</td>\n",
              "      <td>0</td>\n",
              "      <td>0</td>\n",
              "      <td>0</td>\n",
              "    </tr>\n",
              "    <tr>\n",
              "      <th>2</th>\n",
              "      <td>0</td>\n",
              "      <td>1</td>\n",
              "      <td>0</td>\n",
              "      <td>0</td>\n",
              "      <td>0</td>\n",
              "      <td>0</td>\n",
              "      <td>0</td>\n",
              "    </tr>\n",
              "    <tr>\n",
              "      <th>3</th>\n",
              "      <td>0</td>\n",
              "      <td>1</td>\n",
              "      <td>0</td>\n",
              "      <td>0</td>\n",
              "      <td>0</td>\n",
              "      <td>0</td>\n",
              "      <td>0</td>\n",
              "    </tr>\n",
              "    <tr>\n",
              "      <th>4</th>\n",
              "      <td>0</td>\n",
              "      <td>1</td>\n",
              "      <td>0</td>\n",
              "      <td>0</td>\n",
              "      <td>0</td>\n",
              "      <td>0</td>\n",
              "      <td>0</td>\n",
              "    </tr>\n",
              "  </tbody>\n",
              "</table>\n",
              "</div>"
            ],
            "text/plain": [
              "   2   4   6   7   8   17  18\n",
              "0   0   1   0   0   0   0   0\n",
              "1   0   1   0   0   0   0   0\n",
              "2   0   1   0   0   0   0   0\n",
              "3   0   1   0   0   0   0   0\n",
              "4   0   1   0   0   0   0   0"
            ]
          },
          "metadata": {
            "tags": []
          },
          "execution_count": 150
        }
      ]
    },
    {
      "metadata": {
        "id": "tmS9bitJFK9U",
        "colab_type": "code",
        "colab": {}
      },
      "cell_type": "code",
      "source": [
        "Xtrain, Xtest, ytrain, ytest=train_test_split(X_std,y_hot,random_state=123)"
      ],
      "execution_count": 0,
      "outputs": []
    },
    {
      "metadata": {
        "id": "LSMawXxRFK9X",
        "colab_type": "code",
        "colab": {
          "base_uri": "https://localhost:8080/",
          "height": 68
        },
        "outputId": "6f8fd749-c461-484a-f2e2-9a7959f67a2a"
      },
      "cell_type": "code",
      "source": [
        "print(Xtrain.shape)\n",
        "print(Xtest.shape)\n",
        "print(X.shape)"
      ],
      "execution_count": 152,
      "outputs": [
        {
          "output_type": "stream",
          "text": [
            "(6055220, 6)\n",
            "(2018407, 6)\n",
            "(8073627, 6)\n"
          ],
          "name": "stdout"
        }
      ]
    },
    {
      "metadata": {
        "id": "vzjZIQ-sFK9f",
        "colab_type": "text"
      },
      "cell_type": "markdown",
      "source": [
        "### Build the graph"
      ]
    },
    {
      "metadata": {
        "id": "idnF8oMpFK9i",
        "colab_type": "code",
        "colab": {}
      },
      "cell_type": "code",
      "source": [
        "model=Sequential()"
      ],
      "execution_count": 0,
      "outputs": []
    },
    {
      "metadata": {
        "id": "ONvWs1dTFK9k",
        "colab_type": "code",
        "colab": {}
      },
      "cell_type": "code",
      "source": [
        "model.add(Dense(300,'relu',input_shape=(Xtrain.shape[1],)))\n",
        "\n",
        "model.add(Dense(200,'relu'))\n",
        "model.add(Dropout(.25))\n",
        "model.add(Dense(100,'relu'))\n",
        "model.add(Dropout(.20))\n",
        "model.add(Dense(60,'relu'))\n",
        "model.add(Dropout(.10))\n",
        "\n",
        "model.add(Dense(ytrain.shape[1],activation='softmax'))"
      ],
      "execution_count": 0,
      "outputs": []
    },
    {
      "metadata": {
        "id": "rwG51oqZFK9l",
        "colab_type": "code",
        "colab": {}
      },
      "cell_type": "code",
      "source": [
        "model.compile('adam','categorical_crossentropy',metrics=['accuracy'])"
      ],
      "execution_count": 0,
      "outputs": []
    },
    {
      "metadata": {
        "id": "QIopQs9IFK9n",
        "colab_type": "text"
      },
      "cell_type": "markdown",
      "source": [
        "### Execute the graph"
      ]
    },
    {
      "metadata": {
        "id": "E4aW3ezoFK9n",
        "colab_type": "code",
        "colab": {
          "base_uri": "https://localhost:8080/",
          "height": 731
        },
        "outputId": "d048c52d-af67-4b90-921b-0a37896e52e0"
      },
      "cell_type": "code",
      "source": [
        "model.fit(Xtrain,ytrain.values,batch_size=2000,epochs=20,validation_data=(Xtest,ytest.values))"
      ],
      "execution_count": 161,
      "outputs": [
        {
          "output_type": "stream",
          "text": [
            "Train on 6055220 samples, validate on 2018407 samples\n",
            "Epoch 1/20\n",
            "6055220/6055220 [==============================] - 36s 6us/step - loss: 0.4786 - acc: 0.8147 - val_loss: 0.4060 - val_acc: 0.8353\n",
            "Epoch 2/20\n",
            " 232000/6055220 [>.............................] - ETA: 37s - loss: 0.4218 - acc: 0.8303"
          ],
          "name": "stdout"
        },
        {
          "output_type": "stream",
          "text": [
            "6055220/6055220 [==============================] - 35s 6us/step - loss: 0.4124 - acc: 0.8332 - val_loss: 0.3892 - val_acc: 0.8401\n",
            "Epoch 3/20\n",
            "2112000/6055220 [=========>....................] - ETA: 21s - loss: 0.4022 - acc: 0.8363"
          ],
          "name": "stdout"
        },
        {
          "output_type": "stream",
          "text": [
            "6055220/6055220 [==============================] - 36s 6us/step - loss: 0.3996 - acc: 0.8372 - val_loss: 0.3789 - val_acc: 0.8437\n",
            "Epoch 4/20\n",
            "2838000/6055220 [=============>................] - ETA: 17s - loss: 0.3938 - acc: 0.8390"
          ],
          "name": "stdout"
        },
        {
          "output_type": "stream",
          "text": [
            "6055220/6055220 [==============================] - 35s 6us/step - loss: 0.3921 - acc: 0.8398 - val_loss: 0.3770 - val_acc: 0.8441\n",
            "Epoch 5/20\n",
            "3108000/6055220 [==============>...............] - ETA: 16s - loss: 0.3882 - acc: 0.8411"
          ],
          "name": "stdout"
        },
        {
          "output_type": "stream",
          "text": [
            "6055220/6055220 [==============================] - 35s 6us/step - loss: 0.3871 - acc: 0.8414 - val_loss: 0.3698 - val_acc: 0.8468\n",
            "Epoch 6/20\n",
            "3222000/6055220 [==============>...............] - ETA: 15s - loss: 0.3842 - acc: 0.8423"
          ],
          "name": "stdout"
        },
        {
          "output_type": "stream",
          "text": [
            "6055220/6055220 [==============================] - 35s 6us/step - loss: 0.3832 - acc: 0.8426 - val_loss: 0.3651 - val_acc: 0.8482\n",
            "Epoch 7/20\n",
            "3254000/6055220 [===============>..............] - ETA: 15s - loss: 0.3805 - acc: 0.8434"
          ],
          "name": "stdout"
        },
        {
          "output_type": "stream",
          "text": [
            "6055220/6055220 [==============================] - 35s 6us/step - loss: 0.3797 - acc: 0.8438 - val_loss: 0.3650 - val_acc: 0.8483\n",
            "Epoch 8/20\n",
            "3268000/6055220 [===============>..............] - ETA: 15s - loss: 0.3780 - acc: 0.8442"
          ],
          "name": "stdout"
        },
        {
          "output_type": "stream",
          "text": [
            "6055220/6055220 [==============================] - 35s 6us/step - loss: 0.3772 - acc: 0.8445 - val_loss: 0.3598 - val_acc: 0.8499\n",
            "Epoch 9/20\n",
            "3280000/6055220 [===============>..............] - ETA: 15s - loss: 0.3750 - acc: 0.8454"
          ],
          "name": "stdout"
        },
        {
          "output_type": "stream",
          "text": [
            "6055220/6055220 [==============================] - 36s 6us/step - loss: 0.3746 - acc: 0.8453 - val_loss: 0.3574 - val_acc: 0.8507\n",
            "Epoch 10/20\n",
            "3260000/6055220 [===============>..............] - ETA: 15s - loss: 0.3729 - acc: 0.8458"
          ],
          "name": "stdout"
        },
        {
          "output_type": "stream",
          "text": [
            "6055220/6055220 [==============================] - 36s 6us/step - loss: 0.3728 - acc: 0.8458 - val_loss: 0.3570 - val_acc: 0.8512\n",
            "Epoch 11/20\n",
            "3252000/6055220 [===============>..............] - ETA: 15s - loss: 0.3722 - acc: 0.8461"
          ],
          "name": "stdout"
        },
        {
          "output_type": "stream",
          "text": [
            "6055220/6055220 [==============================] - 36s 6us/step - loss: 0.3715 - acc: 0.8464 - val_loss: 0.3557 - val_acc: 0.8514\n",
            "Epoch 12/20\n",
            "3254000/6055220 [===============>..............] - ETA: 15s - loss: 0.3696 - acc: 0.8468"
          ],
          "name": "stdout"
        },
        {
          "output_type": "stream",
          "text": [
            "6055220/6055220 [==============================] - 36s 6us/step - loss: 0.3694 - acc: 0.8469 - val_loss: 0.3522 - val_acc: 0.8523\n",
            "Epoch 13/20\n",
            "3258000/6055220 [===============>..............] - ETA: 15s - loss: 0.3684 - acc: 0.8473"
          ],
          "name": "stdout"
        },
        {
          "output_type": "stream",
          "text": [
            "6055220/6055220 [==============================] - 36s 6us/step - loss: 0.3683 - acc: 0.8474 - val_loss: 0.3500 - val_acc: 0.8538\n",
            "Epoch 14/20\n",
            "3242000/6055220 [===============>..............] - ETA: 15s - loss: 0.3673 - acc: 0.8476"
          ],
          "name": "stdout"
        },
        {
          "output_type": "stream",
          "text": [
            "6055220/6055220 [==============================] - 36s 6us/step - loss: 0.3669 - acc: 0.8478 - val_loss: 0.3510 - val_acc: 0.8525\n",
            "Epoch 15/20\n",
            "3260000/6055220 [===============>..............] - ETA: 15s - loss: 0.3656 - acc: 0.8484"
          ],
          "name": "stdout"
        },
        {
          "output_type": "stream",
          "text": [
            "6055220/6055220 [==============================] - 35s 6us/step - loss: 0.3659 - acc: 0.8481 - val_loss: 0.3500 - val_acc: 0.8529\n",
            "Epoch 16/20\n",
            "3260000/6055220 [===============>..............] - ETA: 15s - loss: 0.3651 - acc: 0.8484"
          ],
          "name": "stdout"
        },
        {
          "output_type": "stream",
          "text": [
            "6055220/6055220 [==============================] - 35s 6us/step - loss: 0.3649 - acc: 0.8485 - val_loss: 0.3466 - val_acc: 0.8541\n",
            "Epoch 17/20\n",
            "3254000/6055220 [===============>..............] - ETA: 15s - loss: 0.3640 - acc: 0.8488"
          ],
          "name": "stdout"
        },
        {
          "output_type": "stream",
          "text": [
            "6055220/6055220 [==============================] - 35s 6us/step - loss: 0.3639 - acc: 0.8488 - val_loss: 0.3469 - val_acc: 0.8541\n",
            "Epoch 18/20\n",
            "3256000/6055220 [===============>..............] - ETA: 15s - loss: 0.3631 - acc: 0.8490"
          ],
          "name": "stdout"
        },
        {
          "output_type": "stream",
          "text": [
            "6055220/6055220 [==============================] - 35s 6us/step - loss: 0.3630 - acc: 0.8490 - val_loss: 0.3459 - val_acc: 0.8543\n",
            "Epoch 19/20\n",
            "3260000/6055220 [===============>..............] - ETA: 15s - loss: 0.3623 - acc: 0.8493"
          ],
          "name": "stdout"
        },
        {
          "output_type": "stream",
          "text": [
            "6055220/6055220 [==============================] - 35s 6us/step - loss: 0.3623 - acc: 0.8493 - val_loss: 0.3440 - val_acc: 0.8549\n",
            "Epoch 20/20\n",
            "3262000/6055220 [===============>..............] - ETA: 15s - loss: 0.3609 - acc: 0.8497"
          ],
          "name": "stdout"
        },
        {
          "output_type": "stream",
          "text": [
            "6055220/6055220 [==============================] - 35s 6us/step - loss: 0.3613 - acc: 0.8496 - val_loss: 0.3445 - val_acc: 0.8547\n"
          ],
          "name": "stdout"
        },
        {
          "output_type": "execute_result",
          "data": {
            "text/plain": [
              "<tensorflow.python.keras.callbacks.History at 0x7f6034dc29e8>"
            ]
          },
          "metadata": {
            "tags": []
          },
          "execution_count": 161
        }
      ]
    },
    {
      "metadata": {
        "id": "qo4cqnruITlZ",
        "colab_type": "code",
        "colab": {}
      },
      "cell_type": "code",
      "source": [
        ""
      ],
      "execution_count": 0,
      "outputs": []
    }
  ]
}