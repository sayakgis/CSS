{
  "nbformat": 4,
  "nbformat_minor": 0,
  "metadata": {
    "colab": {
      "name": "MNIST_CNN.ipynb",
      "version": "0.3.2",
      "provenance": [],
      "collapsed_sections": [],
      "include_colab_link": true
    },
    "kernelspec": {
      "name": "python3",
      "display_name": "Python 3"
    },
    "accelerator": "GPU"
  },
  "cells": [
    {
      "cell_type": "markdown",
      "metadata": {
        "id": "view-in-github",
        "colab_type": "text"
      },
      "source": [
        "[View in Colaboratory](https://colab.research.google.com/github/sayakgis/CSS/blob/master/MNIST_CNN.ipynb)"
      ]
    },
    {
      "metadata": {
        "id": "3LRQL7_XENY1",
        "colab_type": "text"
      },
      "cell_type": "markdown",
      "source": [
        "\n",
        "---\n",
        "# MNIST Handwritten images detection using CNN (Deep Learning)\n",
        "\n",
        "---\n",
        "\n",
        "\n"
      ]
    },
    {
      "metadata": {
        "id": "m-4rSWx4Fv1G",
        "colab_type": "text"
      },
      "cell_type": "markdown",
      "source": [
        "**Collect data**"
      ]
    },
    {
      "metadata": {
        "id": "tAvS4LcwEpB7",
        "colab_type": "code",
        "colab": {
          "base_uri": "https://localhost:8080/",
          "height": 524
        },
        "outputId": "fca5c2fa-41f8-4ae7-c694-2502a300965f"
      },
      "cell_type": "code",
      "source": [
        "# Collect data\n",
        "from tensorflow.examples.tutorials.mnist import input_data\n",
        "MNIST=input_data.read_data_sets('MNIST_data',one_hot=True)\n"
      ],
      "execution_count": 2,
      "outputs": [
        {
          "output_type": "stream",
          "text": [
            "WARNING:tensorflow:From <ipython-input-2-9b9123189b75>:2: read_data_sets (from tensorflow.contrib.learn.python.learn.datasets.mnist) is deprecated and will be removed in a future version.\n",
            "Instructions for updating:\n",
            "Please use alternatives such as official/mnist/dataset.py from tensorflow/models.\n",
            "WARNING:tensorflow:From /usr/local/lib/python3.6/dist-packages/tensorflow/contrib/learn/python/learn/datasets/mnist.py:260: maybe_download (from tensorflow.contrib.learn.python.learn.datasets.base) is deprecated and will be removed in a future version.\n",
            "Instructions for updating:\n",
            "Please write your own downloading logic.\n",
            "WARNING:tensorflow:From /usr/local/lib/python3.6/dist-packages/tensorflow/contrib/learn/python/learn/datasets/base.py:252: _internal_retry.<locals>.wrap.<locals>.wrapped_fn (from tensorflow.contrib.learn.python.learn.datasets.base) is deprecated and will be removed in a future version.\n",
            "Instructions for updating:\n",
            "Please use urllib or similar directly.\n",
            "Successfully downloaded train-images-idx3-ubyte.gz 9912422 bytes.\n",
            "WARNING:tensorflow:From /usr/local/lib/python3.6/dist-packages/tensorflow/contrib/learn/python/learn/datasets/mnist.py:262: extract_images (from tensorflow.contrib.learn.python.learn.datasets.mnist) is deprecated and will be removed in a future version.\n",
            "Instructions for updating:\n",
            "Please use tf.data to implement this functionality.\n",
            "Extracting MNIST_data/train-images-idx3-ubyte.gz\n",
            "Successfully downloaded train-labels-idx1-ubyte.gz 28881 bytes.\n",
            "WARNING:tensorflow:From /usr/local/lib/python3.6/dist-packages/tensorflow/contrib/learn/python/learn/datasets/mnist.py:267: extract_labels (from tensorflow.contrib.learn.python.learn.datasets.mnist) is deprecated and will be removed in a future version.\n",
            "Instructions for updating:\n",
            "Please use tf.data to implement this functionality.\n",
            "Extracting MNIST_data/train-labels-idx1-ubyte.gz\n",
            "WARNING:tensorflow:From /usr/local/lib/python3.6/dist-packages/tensorflow/contrib/learn/python/learn/datasets/mnist.py:110: dense_to_one_hot (from tensorflow.contrib.learn.python.learn.datasets.mnist) is deprecated and will be removed in a future version.\n",
            "Instructions for updating:\n",
            "Please use tf.one_hot on tensors.\n",
            "Successfully downloaded t10k-images-idx3-ubyte.gz 1648877 bytes.\n",
            "Extracting MNIST_data/t10k-images-idx3-ubyte.gz\n",
            "Successfully downloaded t10k-labels-idx1-ubyte.gz 4542 bytes.\n",
            "Extracting MNIST_data/t10k-labels-idx1-ubyte.gz\n",
            "WARNING:tensorflow:From /usr/local/lib/python3.6/dist-packages/tensorflow/contrib/learn/python/learn/datasets/mnist.py:290: DataSet.__init__ (from tensorflow.contrib.learn.python.learn.datasets.mnist) is deprecated and will be removed in a future version.\n",
            "Instructions for updating:\n",
            "Please use alternatives such as official/mnist/dataset.py from tensorflow/models.\n"
          ],
          "name": "stdout"
        }
      ]
    },
    {
      "metadata": {
        "id": "xrIT6BndGXHl",
        "colab_type": "code",
        "colab": {
          "base_uri": "https://localhost:8080/",
          "height": 34
        },
        "outputId": "844fc6e1-3cce-4349-e1bc-73242ffb62ad"
      },
      "cell_type": "code",
      "source": [
        "!ls        #Check directory for files"
      ],
      "execution_count": 41,
      "outputs": [
        {
          "output_type": "stream",
          "text": [
            "datalab  MNIST_data\r\n"
          ],
          "name": "stdout"
        }
      ]
    },
    {
      "metadata": {
        "id": "-DMcBsjLGm2M",
        "colab_type": "text"
      },
      "cell_type": "markdown",
      "source": [
        "**Training and Test data**"
      ]
    },
    {
      "metadata": {
        "id": "JPOjfB9DGYX1",
        "colab_type": "code",
        "colab": {}
      },
      "cell_type": "code",
      "source": [
        "# Training dataset\n",
        "trainX=MNIST.train.images\n",
        "trainY=MNIST.train.labels\n",
        "\n",
        "#Test Data\n",
        "testX=MNIST.test.images\n",
        "testY=MNIST.test.labels"
      ],
      "execution_count": 0,
      "outputs": []
    },
    {
      "metadata": {
        "id": "mGFbfEh_Glum",
        "colab_type": "text"
      },
      "cell_type": "markdown",
      "source": [
        "**Shape of the data**"
      ]
    },
    {
      "metadata": {
        "id": "HpWw4D3UHijs",
        "colab_type": "code",
        "colab": {
          "base_uri": "https://localhost:8080/",
          "height": 84
        },
        "outputId": "54911f0a-dd6d-46d5-f93d-92a7c71d108d"
      },
      "cell_type": "code",
      "source": [
        "print('Training X size:',trainX.shape)\n",
        "print('Training Y size:',trainY.shape)     #One hot encoded labels\n",
        "\n",
        "print('Test X size:',testX.shape)\n",
        "print('Test Y size:',testY.shape)\n"
      ],
      "execution_count": 43,
      "outputs": [
        {
          "output_type": "stream",
          "text": [
            "Training X size: (55000, 784)\n",
            "Training Y size: (55000, 10)\n",
            "Test X size: (10000, 784)\n",
            "Test Y size: (10000, 10)\n"
          ],
          "name": "stdout"
        }
      ]
    },
    {
      "metadata": {
        "id": "yzQaYBNtITvZ",
        "colab_type": "text"
      },
      "cell_type": "markdown",
      "source": [
        "**How the data looks like?**"
      ]
    },
    {
      "metadata": {
        "id": "RGcHBSJ4HyUp",
        "colab_type": "code",
        "colab": {
          "base_uri": "https://localhost:8080/",
          "height": 136
        },
        "outputId": "e8f09369-0ac8-4587-c71e-59216c417ce7"
      },
      "cell_type": "code",
      "source": [
        "import matplotlib.pyplot as plt\n",
        "import numpy as np\n",
        "\n",
        "plt.figure(figsize=[20,5])\n",
        "\n",
        "plt.subplots_adjust(hspace=0.2,wspace=0.2)\n",
        "\n",
        "for i in range(1,11):\n",
        "  plt.subplot(1,11,i)\n",
        "  #plt.grid(axis=False)\n",
        "  plt.axis('off')\n",
        "  plt.imshow(np.reshape(trainX[i],(28,28)))\n",
        "\n",
        "#plt.subplot(2,2,2)\n",
        "#plt.imshow(np.reshape(trainX[30],(28,28)))"
      ],
      "execution_count": 44,
      "outputs": [
        {
          "output_type": "display_data",
          "data": {
            "image/png": "[encoded data removed]",
            "text/plain": [
              "<matplotlib.figure.Figure at 0x7f50881af630>"
            ]
          },
          "metadata": {
            "tags": []
          }
        }
      ]
    },
    {
      "metadata": {
        "id": "5_WHfsH6LXgD",
        "colab_type": "text"
      },
      "cell_type": "markdown",
      "source": [
        "**Set Random seed**"
      ]
    },
    {
      "metadata": {
        "id": "Aj2PpKsgLdbm",
        "colab_type": "code",
        "colab": {}
      },
      "cell_type": "code",
      "source": [
        "np.random.seed(42)"
      ],
      "execution_count": 0,
      "outputs": []
    },
    {
      "metadata": {
        "id": "6DvF-s0gZBgX",
        "colab_type": "text"
      },
      "cell_type": "markdown",
      "source": [
        "# Build the graph\n",
        "\n",
        "**Using Keras to build the model**\n",
        "\n",
        "![Model](https://drive.google.com/file/d/1LA-ePy-0OQOR5W8pVdqNAmLk3nOOy9a_/view?usp=sharing)\n",
        "\n",
        "[link text](https://drive.google.com/file/d/1LA-ePy-0OQOR5W8pVdqNAmLk3nOOy9a_/view?usp=sharing)"
      ]
    },
    {
      "metadata": {
        "id": "elDhXNeYZSXY",
        "colab_type": "code",
        "colab": {}
      },
      "cell_type": "code",
      "source": [
        "#Sequential model\n",
        "from tensorflow.keras.models import Sequential\n",
        "\n",
        "#Import Keras Layers\n",
        "from tensorflow.keras.layers import MaxPool1D, Conv2D,Dense,Dropout,Reshape,Flatten"
      ],
      "execution_count": 0,
      "outputs": []
    },
    {
      "metadata": {
        "id": "7VeLUaJ5IcuJ",
        "colab_type": "code",
        "colab": {}
      },
      "cell_type": "code",
      "source": [
        ""
      ],
      "execution_count": 0,
      "outputs": []
    }
  ]
}