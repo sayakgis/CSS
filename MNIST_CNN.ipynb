{
  "nbformat": 4,
  "nbformat_minor": 0,
  "metadata": {
    "colab": {
      "name": "MNIST_CNN.ipynb",
      "version": "0.3.2",
      "provenance": [],
      "collapsed_sections": [],
      "include_colab_link": true
    },
    "kernelspec": {
      "name": "python3",
      "display_name": "Python 3"
    },
    "accelerator": "GPU"
  },
  "cells": [
    {
      "cell_type": "markdown",
      "metadata": {
        "id": "view-in-github",
        "colab_type": "text"
      },
      "source": [
        "<a href=\"https://colab.research.google.com/github/sayakgis/Handwritten_Digit_Prediction_DL/blob/master/MNIST_CNN.ipynb\" target=\"_parent\"><img src=\"https://colab.research.google.com/assets/colab-badge.svg\" alt=\"Open In Colab\"/></a>"
      ]
    },
    {
      "metadata": {
        "id": "3LRQL7_XENY1",
        "colab_type": "text"
      },
      "cell_type": "markdown",
      "source": [
        "\n",
        "---\n",
        "# MNIST Handwritten images detection using CNN (Deep Learning)\n",
        "\n",
        "---\n",
        "\n",
        "\n"
      ]
    },
    {
      "metadata": {
        "id": "m-4rSWx4Fv1G",
        "colab_type": "text"
      },
      "cell_type": "markdown",
      "source": [
        "**Collect data**"
      ]
    },
    {
      "metadata": {
        "id": "tAvS4LcwEpB7",
        "colab_type": "code",
        "colab": {
          "base_uri": "https://localhost:8080/",
          "height": 538
        },
        "outputId": "4cd14bdd-d71d-4675-fb84-c3cb41d14e25"
      },
      "cell_type": "code",
      "source": [
        "# Collect data\n",
        "from tensorflow.examples.tutorials.mnist import input_data\n",
        "MNIST=input_data.read_data_sets('MNIST_data',one_hot=True)\n"
      ],
      "execution_count": 1,
      "outputs": [
        {
          "output_type": "stream",
          "text": [
            "WARNING:tensorflow:From <ipython-input-1-9b9123189b75>:2: read_data_sets (from tensorflow.contrib.learn.python.learn.datasets.mnist) is deprecated and will be removed in a future version.\n",
            "Instructions for updating:\n",
            "Please use alternatives such as official/mnist/dataset.py from tensorflow/models.\n",
            "WARNING:tensorflow:From /usr/local/lib/python3.6/dist-packages/tensorflow/contrib/learn/python/learn/datasets/mnist.py:260: maybe_download (from tensorflow.contrib.learn.python.learn.datasets.base) is deprecated and will be removed in a future version.\n",
            "Instructions for updating:\n",
            "Please write your own downloading logic.\n",
            "WARNING:tensorflow:From /usr/local/lib/python3.6/dist-packages/tensorflow/contrib/learn/python/learn/datasets/base.py:252: _internal_retry.<locals>.wrap.<locals>.wrapped_fn (from tensorflow.contrib.learn.python.learn.datasets.base) is deprecated and will be removed in a future version.\n",
            "Instructions for updating:\n",
            "Please use urllib or similar directly.\n",
            "Successfully downloaded train-images-idx3-ubyte.gz 9912422 bytes.\n",
            "WARNING:tensorflow:From /usr/local/lib/python3.6/dist-packages/tensorflow/contrib/learn/python/learn/datasets/mnist.py:262: extract_images (from tensorflow.contrib.learn.python.learn.datasets.mnist) is deprecated and will be removed in a future version.\n",
            "Instructions for updating:\n",
            "Please use tf.data to implement this functionality.\n",
            "Extracting MNIST_data/train-images-idx3-ubyte.gz\n",
            "Successfully downloaded train-labels-idx1-ubyte.gz 28881 bytes.\n",
            "WARNING:tensorflow:From /usr/local/lib/python3.6/dist-packages/tensorflow/contrib/learn/python/learn/datasets/mnist.py:267: extract_labels (from tensorflow.contrib.learn.python.learn.datasets.mnist) is deprecated and will be removed in a future version.\n",
            "Instructions for updating:\n",
            "Please use tf.data to implement this functionality.\n",
            "Extracting MNIST_data/train-labels-idx1-ubyte.gz\n",
            "WARNING:tensorflow:From /usr/local/lib/python3.6/dist-packages/tensorflow/contrib/learn/python/learn/datasets/mnist.py:110: dense_to_one_hot (from tensorflow.contrib.learn.python.learn.datasets.mnist) is deprecated and will be removed in a future version.\n",
            "Instructions for updating:\n",
            "Please use tf.one_hot on tensors.\n",
            "Successfully downloaded t10k-images-idx3-ubyte.gz 1648877 bytes.\n",
            "Extracting MNIST_data/t10k-images-idx3-ubyte.gz\n",
            "Successfully downloaded t10k-labels-idx1-ubyte.gz 4542 bytes.\n",
            "Extracting MNIST_data/t10k-labels-idx1-ubyte.gz\n",
            "WARNING:tensorflow:From /usr/local/lib/python3.6/dist-packages/tensorflow/contrib/learn/python/learn/datasets/mnist.py:290: DataSet.__init__ (from tensorflow.contrib.learn.python.learn.datasets.mnist) is deprecated and will be removed in a future version.\n",
            "Instructions for updating:\n",
            "Please use alternatives such as official/mnist/dataset.py from tensorflow/models.\n"
          ],
          "name": "stdout"
        }
      ]
    },
    {
      "metadata": {
        "id": "xrIT6BndGXHl",
        "colab_type": "code",
        "colab": {
          "base_uri": "https://localhost:8080/",
          "height": 34
        },
        "outputId": "ea2e87c7-3c34-4230-9984-49d5a5ac13e0"
      },
      "cell_type": "code",
      "source": [
        "!ls        #Check directory for files"
      ],
      "execution_count": 2,
      "outputs": [
        {
          "output_type": "stream",
          "text": [
            "MNIST_data  sample_data\n"
          ],
          "name": "stdout"
        }
      ]
    },
    {
      "metadata": {
        "id": "-DMcBsjLGm2M",
        "colab_type": "text"
      },
      "cell_type": "markdown",
      "source": [
        "**Training and Test data**"
      ]
    },
    {
      "metadata": {
        "id": "JPOjfB9DGYX1",
        "colab_type": "code",
        "colab": {}
      },
      "cell_type": "code",
      "source": [
        "# Training dataset\n",
        "trainX=MNIST.train.images\n",
        "trainY=MNIST.train.labels\n",
        "\n",
        "#Test Data\n",
        "testX=MNIST.test.images\n",
        "testY=MNIST.test.labels"
      ],
      "execution_count": 0,
      "outputs": []
    },
    {
      "metadata": {
        "id": "mGFbfEh_Glum",
        "colab_type": "text"
      },
      "cell_type": "markdown",
      "source": [
        "**Shape of the data**"
      ]
    },
    {
      "metadata": {
        "id": "HpWw4D3UHijs",
        "colab_type": "code",
        "colab": {
          "base_uri": "https://localhost:8080/",
          "height": 86
        },
        "outputId": "fdb95889-6507-496f-ce44-9052b6dc2c85"
      },
      "cell_type": "code",
      "source": [
        "print('Training X size:',trainX.shape)\n",
        "print('Training Y size:',trainY.shape)     #One hot encoded labels\n",
        "\n",
        "print('Test X size:',testX.shape)\n",
        "print('Test Y size:',testY.shape)\n"
      ],
      "execution_count": 4,
      "outputs": [
        {
          "output_type": "stream",
          "text": [
            "Training X size: (55000, 784)\n",
            "Training Y size: (55000, 10)\n",
            "Test X size: (10000, 784)\n",
            "Test Y size: (10000, 10)\n"
          ],
          "name": "stdout"
        }
      ]
    },
    {
      "metadata": {
        "id": "yzQaYBNtITvZ",
        "colab_type": "text"
      },
      "cell_type": "markdown",
      "source": [
        "**How the data looks like?**"
      ]
    },
    {
      "metadata": {
        "id": "RGcHBSJ4HyUp",
        "colab_type": "code",
        "colab": {
          "base_uri": "https://localhost:8080/",
          "height": 169
        },
        "outputId": "9ca43c8c-7936-4ff0-feb8-a418a6265a4d"
      },
      "cell_type": "code",
      "source": [
        "import matplotlib.pyplot as plt\n",
        "import numpy as np\n",
        "\n",
        "plt.figure(figsize=[20,5])\n",
        "\n",
        "plt.subplots_adjust(hspace=0.2,wspace=0.2)\n",
        "\n",
        "for i in range(1,11):\n",
        "  plt.subplot(1,11,i)\n",
        "  #plt.grid(axis=False)\n",
        "  plt.axis('off')\n",
        "  plt.imshow(np.reshape(trainX[i],(28,28)))\n",
        "  \n",
        "plt.title('How the handwritten images look like')  \n",
        "plt.show()\n"
      ],
      "execution_count": 5,
      "outputs": [
        {
          "output_type": "display_data",
          "data": {
            "image/png": "[encoded data removed]",
            "text/plain": [
              "<matplotlib.figure.Figure at 0x7fa84c5573c8>"
            ]
          },
          "metadata": {
            "tags": []
          }
        }
      ]
    },
    {
      "metadata": {
        "id": "5_WHfsH6LXgD",
        "colab_type": "text"
      },
      "cell_type": "markdown",
      "source": [
        "**Set Random seed**"
      ]
    },
    {
      "metadata": {
        "id": "Aj2PpKsgLdbm",
        "colab_type": "code",
        "colab": {}
      },
      "cell_type": "code",
      "source": [
        "np.random.seed(42)"
      ],
      "execution_count": 0,
      "outputs": []
    },
    {
      "metadata": {
        "id": "6DvF-s0gZBgX",
        "colab_type": "text"
      },
      "cell_type": "markdown",
      "source": [
        "# Build the graph\n",
        "\n",
        "**Using Keras to build the model**\n"
      ]
    },
    {
      "metadata": {
        "id": "uHdHyI-TAzbH",
        "colab_type": "text"
      },
      "cell_type": "markdown",
      "source": [
        "****Network Architecture****\n",
        "![alt text](https://raw.githubusercontent.com/sayakgis/Handwritten_Digit_Prediction_DL/master/Network.JPG)\n"
      ]
    },
    {
      "metadata": {
        "id": "elDhXNeYZSXY",
        "colab_type": "code",
        "colab": {}
      },
      "cell_type": "code",
      "source": [
        "#Sequential model\n",
        "from tensorflow.keras.models import Sequential\n",
        "\n",
        "#Import Keras Layers\n",
        "from tensorflow.keras.layers import MaxPool2D, Conv2D,Dense,Dropout,Reshape,Flatten\n",
        "\n",
        "#Model Check point and Tensor board\n",
        "from tensorflow.keras.callbacks import  ModelCheckpoint,TensorBoard"
      ],
      "execution_count": 0,
      "outputs": []
    },
    {
      "metadata": {
        "id": "mkTNehChs1BT",
        "colab_type": "text"
      },
      "cell_type": "markdown",
      "source": [
        "**Start a Sequential Model**"
      ]
    },
    {
      "metadata": {
        "id": "7VeLUaJ5IcuJ",
        "colab_type": "code",
        "colab": {}
      },
      "cell_type": "code",
      "source": [
        "model=Sequential()"
      ],
      "execution_count": 0,
      "outputs": []
    },
    {
      "metadata": {
        "id": "NKGlewqzs9fl",
        "colab_type": "text"
      },
      "cell_type": "markdown",
      "source": [
        "**Input (Reshape the Data)**"
      ]
    },
    {
      "metadata": {
        "id": "73N8FChltABq",
        "colab_type": "code",
        "colab": {}
      },
      "cell_type": "code",
      "source": [
        "model.add(Reshape((28,28,1),input_shape=(784,)))"
      ],
      "execution_count": 0,
      "outputs": []
    },
    {
      "metadata": {
        "id": "Qcb9-cABtuNq",
        "colab_type": "text"
      },
      "cell_type": "markdown",
      "source": [
        "**Add First Convolution Layer** (32 filters, with 3 by 3 kernel and stride of 1)"
      ]
    },
    {
      "metadata": {
        "id": "ddwTdTBAs7ye",
        "colab_type": "code",
        "colab": {}
      },
      "cell_type": "code",
      "source": [
        "model.add(Conv2D(filters=32,kernel_size=(3,3),strides=(1,1),activation='relu'))"
      ],
      "execution_count": 0,
      "outputs": []
    },
    {
      "metadata": {
        "id": "mdUaugEWu-lE",
        "colab_type": "text"
      },
      "cell_type": "markdown",
      "source": [
        "**Add Second Convolution layer**(64 filters with 3 by 3 kernel and stride of 1)"
      ]
    },
    {
      "metadata": {
        "id": "nrG5zk4-vKQh",
        "colab_type": "code",
        "colab": {}
      },
      "cell_type": "code",
      "source": [
        "model.add(Conv2D(filters=64,kernel_size=(3,3),strides=(1,1),activation='relu'))"
      ],
      "execution_count": 0,
      "outputs": []
    },
    {
      "metadata": {
        "id": "Bczat8GRviH7",
        "colab_type": "text"
      },
      "cell_type": "markdown",
      "source": [
        "**Add Max Pooling Layer **(2 by 2)"
      ]
    },
    {
      "metadata": {
        "id": "5ZCryBFIvq6O",
        "colab_type": "code",
        "colab": {}
      },
      "cell_type": "code",
      "source": [
        "model.add(MaxPool2D(pool_size=(2,2)))"
      ],
      "execution_count": 0,
      "outputs": []
    },
    {
      "metadata": {
        "id": "H94ItP-nwSLM",
        "colab_type": "text"
      },
      "cell_type": "markdown",
      "source": [
        "**Add Drop Out of 25%**"
      ]
    },
    {
      "metadata": {
        "id": "gInB4rnxwdnY",
        "colab_type": "code",
        "colab": {}
      },
      "cell_type": "code",
      "source": [
        "model.add(Dropout(rate=0.25))"
      ],
      "execution_count": 0,
      "outputs": []
    },
    {
      "metadata": {
        "id": "0ojKjsgww22n",
        "colab_type": "text"
      },
      "cell_type": "markdown",
      "source": [
        "**Flatten the image **"
      ]
    },
    {
      "metadata": {
        "id": "MpHQEhgzw634",
        "colab_type": "code",
        "colab": {}
      },
      "cell_type": "code",
      "source": [
        "model.add(Flatten())"
      ],
      "execution_count": 0,
      "outputs": []
    },
    {
      "metadata": {
        "id": "HuapUfnQxE6s",
        "colab_type": "text"
      },
      "cell_type": "markdown",
      "source": [
        "**Add fully connected layer (128 neurons)**"
      ]
    },
    {
      "metadata": {
        "id": "-V0k-kNlxMOU",
        "colab_type": "code",
        "colab": {}
      },
      "cell_type": "code",
      "source": [
        "model.add(Dense(units=128,activation='relu'))"
      ],
      "execution_count": 0,
      "outputs": []
    },
    {
      "metadata": {
        "id": "FAADu89xxrN_",
        "colab_type": "text"
      },
      "cell_type": "markdown",
      "source": [
        "**Add another Drop Out (50%)**"
      ]
    },
    {
      "metadata": {
        "id": "_ITU_l-RxxFU",
        "colab_type": "code",
        "colab": {}
      },
      "cell_type": "code",
      "source": [
        "model.add(Dropout(0.50))"
      ],
      "execution_count": 0,
      "outputs": []
    },
    {
      "metadata": {
        "id": "W7_JdGgwyL21",
        "colab_type": "text"
      },
      "cell_type": "markdown",
      "source": [
        "**Add Softmax**"
      ]
    },
    {
      "metadata": {
        "id": "waJbZn06yFI6",
        "colab_type": "code",
        "colab": {}
      },
      "cell_type": "code",
      "source": [
        "model.add(Dense(10,activation='softmax'))"
      ],
      "execution_count": 0,
      "outputs": []
    },
    {
      "metadata": {
        "id": "m-dIS6eDysgz",
        "colab_type": "text"
      },
      "cell_type": "markdown",
      "source": [
        "**Compile the model**"
      ]
    },
    {
      "metadata": {
        "id": "ZKSRAoKfymlH",
        "colab_type": "code",
        "colab": {}
      },
      "cell_type": "code",
      "source": [
        "model.compile(optimizer='adam',loss='categorical_crossentropy',metrics=['accuracy'])"
      ],
      "execution_count": 0,
      "outputs": []
    },
    {
      "metadata": {
        "id": "R3G-uDql1SkV",
        "colab_type": "text"
      },
      "cell_type": "markdown",
      "source": [
        "**Define Checkpoint based on Best accuracy of test data**"
      ]
    },
    {
      "metadata": {
        "id": "W-c4DfHO1dKE",
        "colab_type": "code",
        "colab": {}
      },
      "cell_type": "code",
      "source": [
        "checkpoint=ModelCheckpoint('mnist_keras_cnn-v1',monitor='val_acc',verbose=1,save_best_only=True,mode='max')"
      ],
      "execution_count": 0,
      "outputs": []
    },
    {
      "metadata": {
        "id": "vEPg0_zl4_zD",
        "colab_type": "text"
      },
      "cell_type": "markdown",
      "source": [
        "**Train and execute the graph**"
      ]
    },
    {
      "metadata": {
        "id": "BYsnIlAq2m7z",
        "colab_type": "code",
        "colab": {
          "base_uri": "https://localhost:8080/",
          "height": 2125
        },
        "outputId": "6cb77440-1448-4bf2-ae59-6f39b760eff7"
      },
      "cell_type": "code",
      "source": [
        "model.fit(x=trainX,y=trainY,batch_size=100,epochs=30,validation_data=[testX,testY],callbacks=[checkpoint,TensorBoard(log_dir='')])"
      ],
      "execution_count": 20,
      "outputs": [
        {
          "output_type": "stream",
          "text": [
            "Train on 55000 samples, validate on 10000 samples\n",
            "Epoch 1/30\n",
            "54800/55000 [============================>.] - ETA: 0s - loss: 0.2207 - acc: 0.9319\n",
            "Epoch 00001: val_acc improved from -inf to 0.98470, saving model to mnist_keras_cnn-v1\n",
            "55000/55000 [==============================] - 12s 215us/step - loss: 0.2202 - acc: 0.9321 - val_loss: 0.0508 - val_acc: 0.9847\n",
            "Epoch 2/30\n",
            "54700/55000 [============================>.] - ETA: 0s - loss: 0.0842 - acc: 0.9749\n",
            "Epoch 00002: val_acc improved from 0.98470 to 0.98750, saving model to mnist_keras_cnn-v1\n",
            "55000/55000 [==============================] - 9s 160us/step - loss: 0.0839 - acc: 0.9750 - val_loss: 0.0399 - val_acc: 0.9875\n",
            "Epoch 3/30\n",
            "54900/55000 [============================>.] - ETA: 0s - loss: 0.0601 - acc: 0.9821\n",
            "Epoch 00003: val_acc improved from 0.98750 to 0.99000, saving model to mnist_keras_cnn-v1\n",
            "55000/55000 [==============================] - 9s 160us/step - loss: 0.0601 - acc: 0.9821 - val_loss: 0.0318 - val_acc: 0.9900\n",
            "Epoch 4/30\n",
            "54900/55000 [============================>.] - ETA: 0s - loss: 0.0506 - acc: 0.9848\n",
            "Epoch 00004: val_acc improved from 0.99000 to 0.99060, saving model to mnist_keras_cnn-v1\n",
            "55000/55000 [==============================] - 9s 160us/step - loss: 0.0506 - acc: 0.9848 - val_loss: 0.0318 - val_acc: 0.9906\n",
            "Epoch 5/30\n",
            "54900/55000 [============================>.] - ETA: 0s - loss: 0.0416 - acc: 0.9871\n",
            "Epoch 00005: val_acc did not improve from 0.99060\n",
            "55000/55000 [==============================] - 9s 159us/step - loss: 0.0415 - acc: 0.9871 - val_loss: 0.0345 - val_acc: 0.9888\n",
            "Epoch 6/30\n",
            "54600/55000 [============================>.] - ETA: 0s - loss: 0.0372 - acc: 0.9879\n",
            "Epoch 00006: val_acc did not improve from 0.99060\n",
            "55000/55000 [==============================] - 9s 159us/step - loss: 0.0374 - acc: 0.9878 - val_loss: 0.0298 - val_acc: 0.9904\n",
            "Epoch 7/30\n",
            "54700/55000 [============================>.] - ETA: 0s - loss: 0.0312 - acc: 0.9902\n",
            "Epoch 00007: val_acc improved from 0.99060 to 0.99160, saving model to mnist_keras_cnn-v1\n",
            "55000/55000 [==============================] - 9s 161us/step - loss: 0.0312 - acc: 0.9902 - val_loss: 0.0295 - val_acc: 0.9916\n",
            "Epoch 8/30\n",
            "54800/55000 [============================>.] - ETA: 0s - loss: 0.0290 - acc: 0.9902\n",
            "Epoch 00008: val_acc did not improve from 0.99160\n",
            "55000/55000 [==============================] - 9s 159us/step - loss: 0.0290 - acc: 0.9902 - val_loss: 0.0276 - val_acc: 0.9916\n",
            "Epoch 9/30\n",
            "54900/55000 [============================>.] - ETA: 0s - loss: 0.0268 - acc: 0.9915\n",
            "Epoch 00009: val_acc did not improve from 0.99160\n",
            "55000/55000 [==============================] - 9s 159us/step - loss: 0.0269 - acc: 0.9915 - val_loss: 0.0295 - val_acc: 0.9901\n",
            "Epoch 10/30\n",
            "54900/55000 [============================>.] - ETA: 0s - loss: 0.0248 - acc: 0.9923\n",
            "Epoch 00010: val_acc did not improve from 0.99160\n",
            "55000/55000 [==============================] - 9s 159us/step - loss: 0.0248 - acc: 0.9923 - val_loss: 0.0297 - val_acc: 0.9916\n",
            "Epoch 11/30\n",
            "54900/55000 [============================>.] - ETA: 0s - loss: 0.0216 - acc: 0.9928\n",
            "Epoch 00011: val_acc did not improve from 0.99160\n",
            "55000/55000 [==============================] - 9s 158us/step - loss: 0.0216 - acc: 0.9928 - val_loss: 0.0348 - val_acc: 0.9914\n",
            "Epoch 12/30\n",
            "54900/55000 [============================>.] - ETA: 0s - loss: 0.0204 - acc: 0.9935\n",
            "Epoch 00012: val_acc did not improve from 0.99160\n",
            "55000/55000 [==============================] - 9s 158us/step - loss: 0.0204 - acc: 0.9935 - val_loss: 0.0292 - val_acc: 0.9912\n",
            "Epoch 13/30\n",
            "54800/55000 [============================>.] - ETA: 0s - loss: 0.0200 - acc: 0.9929\n",
            "Epoch 00013: val_acc did not improve from 0.99160\n",
            "55000/55000 [==============================] - 9s 159us/step - loss: 0.0200 - acc: 0.9929 - val_loss: 0.0302 - val_acc: 0.9913\n",
            "Epoch 14/30\n",
            "54700/55000 [============================>.] - ETA: 0s - loss: 0.0204 - acc: 0.9933\n",
            "Epoch 00014: val_acc did not improve from 0.99160\n",
            "55000/55000 [==============================] - 9s 158us/step - loss: 0.0204 - acc: 0.9933 - val_loss: 0.0278 - val_acc: 0.9916\n",
            "Epoch 15/30\n",
            "54800/55000 [============================>.] - ETA: 0s - loss: 0.0160 - acc: 0.9948\n",
            "Epoch 00015: val_acc improved from 0.99160 to 0.99220, saving model to mnist_keras_cnn-v1\n",
            "55000/55000 [==============================] - 9s 159us/step - loss: 0.0160 - acc: 0.9948 - val_loss: 0.0328 - val_acc: 0.9922\n",
            "Epoch 16/30\n",
            "54600/55000 [============================>.] - ETA: 0s - loss: 0.0154 - acc: 0.9949\n",
            "Epoch 00016: val_acc did not improve from 0.99220\n",
            "55000/55000 [==============================] - 9s 159us/step - loss: 0.0153 - acc: 0.9949 - val_loss: 0.0327 - val_acc: 0.9921\n",
            "Epoch 17/30\n",
            "54800/55000 [============================>.] - ETA: 0s - loss: 0.0152 - acc: 0.9949\n",
            "Epoch 00017: val_acc improved from 0.99220 to 0.99280, saving model to mnist_keras_cnn-v1\n",
            "55000/55000 [==============================] - 9s 159us/step - loss: 0.0152 - acc: 0.9949 - val_loss: 0.0290 - val_acc: 0.9928\n",
            "Epoch 18/30\n",
            "54800/55000 [============================>.] - ETA: 0s - loss: 0.0140 - acc: 0.9952\n",
            "Epoch 00018: val_acc improved from 0.99280 to 0.99300, saving model to mnist_keras_cnn-v1\n",
            "55000/55000 [==============================] - 9s 159us/step - loss: 0.0140 - acc: 0.9952 - val_loss: 0.0296 - val_acc: 0.9930\n",
            "Epoch 19/30\n",
            "54800/55000 [============================>.] - ETA: 0s - loss: 0.0133 - acc: 0.9953\n",
            "Epoch 00019: val_acc did not improve from 0.99300\n",
            "55000/55000 [==============================] - 9s 159us/step - loss: 0.0133 - acc: 0.9953 - val_loss: 0.0317 - val_acc: 0.9919\n",
            "Epoch 20/30\n",
            "54900/55000 [============================>.] - ETA: 0s - loss: 0.0140 - acc: 0.9954\n",
            "Epoch 00020: val_acc did not improve from 0.99300\n",
            "55000/55000 [==============================] - 9s 159us/step - loss: 0.0140 - acc: 0.9954 - val_loss: 0.0307 - val_acc: 0.9919\n",
            "Epoch 21/30\n",
            "54600/55000 [============================>.] - ETA: 0s - loss: 0.0115 - acc: 0.9963\n",
            "Epoch 00021: val_acc did not improve from 0.99300\n",
            "55000/55000 [==============================] - 9s 159us/step - loss: 0.0115 - acc: 0.9963 - val_loss: 0.0296 - val_acc: 0.9929\n",
            "Epoch 22/30\n",
            "54800/55000 [============================>.] - ETA: 0s - loss: 0.0121 - acc: 0.9957\n",
            "Epoch 00022: val_acc did not improve from 0.99300\n",
            "55000/55000 [==============================] - 9s 159us/step - loss: 0.0120 - acc: 0.9957 - val_loss: 0.0311 - val_acc: 0.9924\n",
            "Epoch 23/30\n",
            "54700/55000 [============================>.] - ETA: 0s - loss: 0.0121 - acc: 0.9960\n",
            "Epoch 00023: val_acc did not improve from 0.99300\n",
            "55000/55000 [==============================] - 9s 159us/step - loss: 0.0120 - acc: 0.9961 - val_loss: 0.0326 - val_acc: 0.9915\n",
            "Epoch 24/30\n",
            "54900/55000 [============================>.] - ETA: 0s - loss: 0.0120 - acc: 0.9959\n",
            "Epoch 00024: val_acc did not improve from 0.99300\n",
            "55000/55000 [==============================] - 9s 160us/step - loss: 0.0120 - acc: 0.9959 - val_loss: 0.0346 - val_acc: 0.9915\n",
            "Epoch 25/30\n",
            "54700/55000 [============================>.] - ETA: 0s - loss: 0.0115 - acc: 0.9960\n",
            "Epoch 00025: val_acc did not improve from 0.99300\n",
            "55000/55000 [==============================] - 9s 159us/step - loss: 0.0114 - acc: 0.9960 - val_loss: 0.0339 - val_acc: 0.9923\n",
            "Epoch 26/30\n",
            "54800/55000 [============================>.] - ETA: 0s - loss: 0.0101 - acc: 0.9968\n",
            "Epoch 00026: val_acc did not improve from 0.99300\n",
            "55000/55000 [==============================] - 9s 159us/step - loss: 0.0101 - acc: 0.9968 - val_loss: 0.0334 - val_acc: 0.9913\n",
            "Epoch 27/30\n",
            "54700/55000 [============================>.] - ETA: 0s - loss: 0.0112 - acc: 0.9963\n",
            "Epoch 00027: val_acc did not improve from 0.99300\n",
            "55000/55000 [==============================] - 9s 159us/step - loss: 0.0111 - acc: 0.9963 - val_loss: 0.0319 - val_acc: 0.9926\n",
            "Epoch 28/30\n",
            "54700/55000 [============================>.] - ETA: 0s - loss: 0.0109 - acc: 0.9965\n",
            "Epoch 00028: val_acc improved from 0.99300 to 0.99370, saving model to mnist_keras_cnn-v1\n",
            "55000/55000 [==============================] - 9s 160us/step - loss: 0.0109 - acc: 0.9965 - val_loss: 0.0288 - val_acc: 0.9937\n",
            "Epoch 29/30\n",
            "54700/55000 [============================>.] - ETA: 0s - loss: 0.0106 - acc: 0.9963\n",
            "Epoch 00029: val_acc did not improve from 0.99370\n",
            "55000/55000 [==============================] - 9s 160us/step - loss: 0.0106 - acc: 0.9963 - val_loss: 0.0339 - val_acc: 0.9932\n",
            "Epoch 30/30\n",
            "54700/55000 [============================>.] - ETA: 0s - loss: 0.0099 - acc: 0.9966\n",
            "Epoch 00030: val_acc did not improve from 0.99370\n",
            "55000/55000 [==============================] - 9s 159us/step - loss: 0.0099 - acc: 0.9965 - val_loss: 0.0325 - val_acc: 0.9930\n"
          ],
          "name": "stdout"
        },
        {
          "output_type": "execute_result",
          "data": {
            "text/plain": [
              "<tensorflow.python.keras.callbacks.History at 0x7fa803a98390>"
            ]
          },
          "metadata": {
            "tags": []
          },
          "execution_count": 20
        }
      ]
    },
    {
      "metadata": {
        "id": "GgPGhEiC8gzX",
        "colab_type": "text"
      },
      "cell_type": "markdown",
      "source": [
        "**Predict the images**"
      ]
    },
    {
      "metadata": {
        "id": "BKiJf1519Rk7",
        "colab_type": "code",
        "colab": {
          "base_uri": "https://localhost:8080/",
          "height": 345
        },
        "outputId": "a310db71-48ad-4e2b-9595-0fac01afc77f"
      },
      "cell_type": "code",
      "source": [
        "y_pred=model.predict(testX)\n",
        "\n",
        "\n",
        "plt.figure(figsize=(20,10))\n",
        "plt.subplots_adjust(hspace=0.1,wspace=0.1)\n",
        "\n",
        "array_=np.random.randint(1,8000,11)\n",
        "\n",
        "for i,j in zip(array_,range(1,11)):\n",
        "  plt.subplot(1,10,j)\n",
        "  print('Predicted Number of picture',i,'is==>',np.argmax(y_pred[i]))\n",
        "  plt.imshow(np.reshape(testX[i],(28,28)))\n",
        "  plt.axis('off')\n",
        "  "
      ],
      "execution_count": 21,
      "outputs": [
        {
          "output_type": "stream",
          "text": [
            "Predicted Number of picture 822 is==> 7\n",
            "Predicted Number of picture 6723 is==> 4\n",
            "Predicted Number of picture 5311 is==> 9\n",
            "Predicted Number of picture 6192 is==> 1\n",
            "Predicted Number of picture 3618 is==> 9\n",
            "Predicted Number of picture 7303 is==> 1\n",
            "Predicted Number of picture 135 is==> 1\n",
            "Predicted Number of picture 7685 is==> 2\n",
            "Predicted Number of picture 6691 is==> 6\n",
            "Predicted Number of picture 5282 is==> 2\n"
          ],
          "name": "stdout"
        },
        {
          "output_type": "display_data",
          "data": {
            "image/png": "[encoded data removed]",
            "text/plain": [
              "<matplotlib.figure.Figure at 0x7fa8066461d0>"
            ]
          },
          "metadata": {
            "tags": []
          }
        }
      ]
    },
    {
      "metadata": {
        "id": "16oG7S1TnLU9",
        "colab_type": "text"
      },
      "cell_type": "markdown",
      "source": [
        "**Lets check some wrong predictions**"
      ]
    },
    {
      "metadata": {
        "id": "skzScb5y-CXl",
        "colab_type": "code",
        "colab": {}
      },
      "cell_type": "code",
      "source": [
        "import pandas as pd"
      ],
      "execution_count": 0,
      "outputs": []
    },
    {
      "metadata": {
        "id": "5uNm7P9BnWlF",
        "colab_type": "code",
        "colab": {
          "base_uri": "https://localhost:8080/",
          "height": 198
        },
        "outputId": "f44322e9-9dbf-49ef-ac8f-64c493c207db"
      },
      "cell_type": "code",
      "source": [
        "df_compare=pd.DataFrame([np.argmax(y_pred,axis=1),np.argmax(testY,axis=1)]).T\n",
        "df_compare.head()"
      ],
      "execution_count": 23,
      "outputs": [
        {
          "output_type": "execute_result",
          "data": {
            "text/html": [
              "<div>\n",
              "<style scoped>\n",
              "    .dataframe tbody tr th:only-of-type {\n",
              "        vertical-align: middle;\n",
              "    }\n",
              "\n",
              "    .dataframe tbody tr th {\n",
              "        vertical-align: top;\n",
              "    }\n",
              "\n",
              "    .dataframe thead th {\n",
              "        text-align: right;\n",
              "    }\n",
              "</style>\n",
              "<table border=\"1\" class=\"dataframe\">\n",
              "  <thead>\n",
              "    <tr style=\"text-align: right;\">\n",
              "      <th></th>\n",
              "      <th>0</th>\n",
              "      <th>1</th>\n",
              "    </tr>\n",
              "  </thead>\n",
              "  <tbody>\n",
              "    <tr>\n",
              "      <th>0</th>\n",
              "      <td>7</td>\n",
              "      <td>7</td>\n",
              "    </tr>\n",
              "    <tr>\n",
              "      <th>1</th>\n",
              "      <td>2</td>\n",
              "      <td>2</td>\n",
              "    </tr>\n",
              "    <tr>\n",
              "      <th>2</th>\n",
              "      <td>1</td>\n",
              "      <td>1</td>\n",
              "    </tr>\n",
              "    <tr>\n",
              "      <th>3</th>\n",
              "      <td>0</td>\n",
              "      <td>0</td>\n",
              "    </tr>\n",
              "    <tr>\n",
              "      <th>4</th>\n",
              "      <td>4</td>\n",
              "      <td>4</td>\n",
              "    </tr>\n",
              "  </tbody>\n",
              "</table>\n",
              "</div>"
            ],
            "text/plain": [
              "   0  1\n",
              "0  7  7\n",
              "1  2  2\n",
              "2  1  1\n",
              "3  0  0\n",
              "4  4  4"
            ]
          },
          "metadata": {
            "tags": []
          },
          "execution_count": 23
        }
      ]
    },
    {
      "metadata": {
        "id": "KYRzVzwu3jWQ",
        "colab_type": "code",
        "colab": {
          "base_uri": "https://localhost:8080/",
          "height": 34
        },
        "outputId": "eed72580-7f54-4df4-fead-acb4a3ab1315"
      },
      "cell_type": "code",
      "source": [
        "df_wrong=df_compare[df_compare[0]!=df_compare[1]]\n",
        "print('Number of wrong predictions:',df_wrong.shape[0])"
      ],
      "execution_count": 24,
      "outputs": [
        {
          "output_type": "stream",
          "text": [
            "Number of wrong predictions: 70\n"
          ],
          "name": "stdout"
        }
      ]
    },
    {
      "metadata": {
        "id": "lQF_G0U98T3H",
        "colab_type": "code",
        "colab": {
          "base_uri": "https://localhost:8080/",
          "height": 358
        },
        "outputId": "49aa97b4-3ad3-4f5a-ee01-d16e46317d0e"
      },
      "cell_type": "code",
      "source": [
        "plt.figure(figsize=(20,10))\n",
        "plt.subplots_adjust(hspace=0.1,wspace=0.1)\n",
        "\n",
        "ind=np.array(df_wrong.index[1:11])\n",
        "\n",
        "\n",
        "for i, j in zip(ind,range(1,11)):\n",
        "  plt.subplot(1,10,j)\n",
        "  print('Predicted Number of picture number:',i,'is==>',np.argmax(y_pred[i]))\n",
        "  plt.imshow(np.reshape(testX[i],(28,28)))\n",
        "  plt.axis('off')\n",
        "  plt.title('Wrong predictions')"
      ],
      "execution_count": 25,
      "outputs": [
        {
          "output_type": "stream",
          "text": [
            "Predicted Number of picture number: 321 is==> 7\n",
            "Predicted Number of picture number: 340 is==> 3\n",
            "Predicted Number of picture number: 445 is==> 0\n",
            "Predicted Number of picture number: 583 is==> 7\n",
            "Predicted Number of picture number: 591 is==> 3\n",
            "Predicted Number of picture number: 947 is==> 9\n",
            "Predicted Number of picture number: 1014 is==> 5\n",
            "Predicted Number of picture number: 1039 is==> 2\n",
            "Predicted Number of picture number: 1182 is==> 5\n",
            "Predicted Number of picture number: 1226 is==> 2\n"
          ],
          "name": "stdout"
        },
        {
          "output_type": "display_data",
          "data": {
            "image/png": "[encoded data removed]",
            "text/plain": [
              "<matplotlib.figure.Figure at 0x7fa8004e2128>"
            ]
          },
          "metadata": {
            "tags": []
          }
        }
      ]
    },
    {
      "metadata": {
        "id": "l0Gffqg79A2n",
        "colab_type": "code",
        "colab": {}
      },
      "cell_type": "code",
      "source": [
        ""
      ],
      "execution_count": 0,
      "outputs": []
    }
  ]
}