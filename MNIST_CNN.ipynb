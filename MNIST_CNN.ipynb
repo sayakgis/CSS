{
  "nbformat": 4,
  "nbformat_minor": 0,
  "metadata": {
    "colab": {
      "name": "MNIST_CNN.ipynb",
      "version": "0.3.2",
      "provenance": [],
      "collapsed_sections": [],
      "include_colab_link": true
    },
    "kernelspec": {
      "name": "python3",
      "display_name": "Python 3"
    },
    "accelerator": "GPU"
  },
  "cells": [
    {
      "cell_type": "markdown",
      "metadata": {
        "id": "view-in-github",
        "colab_type": "text"
      },
      "source": [
        "[View in Colaboratory](https://colab.research.google.com/github/sayakgis/Handwritten_Digit_Prediction_DL-Work-in-progress-/blob/master/MNIST_CNN.ipynb)"
      ]
    },
    {
      "metadata": {
        "id": "3LRQL7_XENY1",
        "colab_type": "text"
      },
      "cell_type": "markdown",
      "source": [
        "\n",
        "---\n",
        "# MNIST Handwritten images detection using CNN (Deep Learning)\n",
        "\n",
        "---\n",
        "\n",
        "\n"
      ]
    },
    {
      "metadata": {
        "id": "m-4rSWx4Fv1G",
        "colab_type": "text"
      },
      "cell_type": "markdown",
      "source": [
        "**Collect data**"
      ]
    },
    {
      "metadata": {
        "id": "tAvS4LcwEpB7",
        "colab_type": "code",
        "colab": {
          "base_uri": "https://localhost:8080/",
          "height": 524
        },
        "outputId": "e900e473-70e3-47ed-a0a5-2cd23f2b5ae4"
      },
      "cell_type": "code",
      "source": [
        "# Collect data\n",
        "from tensorflow.examples.tutorials.mnist import input_data\n",
        "MNIST=input_data.read_data_sets('MNIST_data',one_hot=True)\n"
      ],
      "execution_count": 2,
      "outputs": [
        {
          "output_type": "stream",
          "text": [
            "WARNING:tensorflow:From <ipython-input-2-9b9123189b75>:2: read_data_sets (from tensorflow.contrib.learn.python.learn.datasets.mnist) is deprecated and will be removed in a future version.\n",
            "Instructions for updating:\n",
            "Please use alternatives such as official/mnist/dataset.py from tensorflow/models.\n",
            "WARNING:tensorflow:From /usr/local/lib/python3.6/dist-packages/tensorflow/contrib/learn/python/learn/datasets/mnist.py:260: maybe_download (from tensorflow.contrib.learn.python.learn.datasets.base) is deprecated and will be removed in a future version.\n",
            "Instructions for updating:\n",
            "Please write your own downloading logic.\n",
            "WARNING:tensorflow:From /usr/local/lib/python3.6/dist-packages/tensorflow/contrib/learn/python/learn/datasets/base.py:252: _internal_retry.<locals>.wrap.<locals>.wrapped_fn (from tensorflow.contrib.learn.python.learn.datasets.base) is deprecated and will be removed in a future version.\n",
            "Instructions for updating:\n",
            "Please use urllib or similar directly.\n",
            "Successfully downloaded train-images-idx3-ubyte.gz 9912422 bytes.\n",
            "WARNING:tensorflow:From /usr/local/lib/python3.6/dist-packages/tensorflow/contrib/learn/python/learn/datasets/mnist.py:262: extract_images (from tensorflow.contrib.learn.python.learn.datasets.mnist) is deprecated and will be removed in a future version.\n",
            "Instructions for updating:\n",
            "Please use tf.data to implement this functionality.\n",
            "Extracting MNIST_data/train-images-idx3-ubyte.gz\n",
            "Successfully downloaded train-labels-idx1-ubyte.gz 28881 bytes.\n",
            "WARNING:tensorflow:From /usr/local/lib/python3.6/dist-packages/tensorflow/contrib/learn/python/learn/datasets/mnist.py:267: extract_labels (from tensorflow.contrib.learn.python.learn.datasets.mnist) is deprecated and will be removed in a future version.\n",
            "Instructions for updating:\n",
            "Please use tf.data to implement this functionality.\n",
            "Extracting MNIST_data/train-labels-idx1-ubyte.gz\n",
            "WARNING:tensorflow:From /usr/local/lib/python3.6/dist-packages/tensorflow/contrib/learn/python/learn/datasets/mnist.py:110: dense_to_one_hot (from tensorflow.contrib.learn.python.learn.datasets.mnist) is deprecated and will be removed in a future version.\n",
            "Instructions for updating:\n",
            "Please use tf.one_hot on tensors.\n",
            "Successfully downloaded t10k-images-idx3-ubyte.gz 1648877 bytes.\n",
            "Extracting MNIST_data/t10k-images-idx3-ubyte.gz\n",
            "Successfully downloaded t10k-labels-idx1-ubyte.gz 4542 bytes.\n",
            "Extracting MNIST_data/t10k-labels-idx1-ubyte.gz\n",
            "WARNING:tensorflow:From /usr/local/lib/python3.6/dist-packages/tensorflow/contrib/learn/python/learn/datasets/mnist.py:290: DataSet.__init__ (from tensorflow.contrib.learn.python.learn.datasets.mnist) is deprecated and will be removed in a future version.\n",
            "Instructions for updating:\n",
            "Please use alternatives such as official/mnist/dataset.py from tensorflow/models.\n"
          ],
          "name": "stdout"
        }
      ]
    },
    {
      "metadata": {
        "id": "xrIT6BndGXHl",
        "colab_type": "code",
        "colab": {
          "base_uri": "https://localhost:8080/",
          "height": 34
        },
        "outputId": "1897787b-ef26-4d49-f99e-67e0d207f241"
      },
      "cell_type": "code",
      "source": [
        "!ls        #Check directory for files"
      ],
      "execution_count": 16,
      "outputs": [
        {
          "output_type": "stream",
          "text": [
            "datalab  MNIST_data\r\n"
          ],
          "name": "stdout"
        }
      ]
    },
    {
      "metadata": {
        "id": "-DMcBsjLGm2M",
        "colab_type": "text"
      },
      "cell_type": "markdown",
      "source": [
        "**Training and Test data**"
      ]
    },
    {
      "metadata": {
        "id": "JPOjfB9DGYX1",
        "colab_type": "code",
        "colab": {}
      },
      "cell_type": "code",
      "source": [
        "# Training dataset\n",
        "trainX=MNIST.train.images\n",
        "trainY=MNIST.train.labels\n",
        "\n",
        "#Test Data\n",
        "testX=MNIST.test.images\n",
        "testY=MNIST.test.labels"
      ],
      "execution_count": 0,
      "outputs": []
    },
    {
      "metadata": {
        "id": "mGFbfEh_Glum",
        "colab_type": "text"
      },
      "cell_type": "markdown",
      "source": [
        "**Shape of the data**"
      ]
    },
    {
      "metadata": {
        "id": "HpWw4D3UHijs",
        "colab_type": "code",
        "colab": {
          "base_uri": "https://localhost:8080/",
          "height": 84
        },
        "outputId": "bcf7f655-07f8-4ca7-8bfd-279297f63617"
      },
      "cell_type": "code",
      "source": [
        "print('Training X size:',trainX.shape)\n",
        "print('Training Y size:',trainY.shape)     #One hot encoded labels\n",
        "\n",
        "print('Test X size:',testX.shape)\n",
        "print('Test Y size:',testY.shape)\n"
      ],
      "execution_count": 18,
      "outputs": [
        {
          "output_type": "stream",
          "text": [
            "Training X size: (55000, 784)\n",
            "Training Y size: (55000, 10)\n",
            "Test X size: (10000, 784)\n",
            "Test Y size: (10000, 10)\n"
          ],
          "name": "stdout"
        }
      ]
    },
    {
      "metadata": {
        "id": "yzQaYBNtITvZ",
        "colab_type": "text"
      },
      "cell_type": "markdown",
      "source": [
        "**How the data looks like?**"
      ]
    },
    {
      "metadata": {
        "id": "RGcHBSJ4HyUp",
        "colab_type": "code",
        "colab": {
          "base_uri": "https://localhost:8080/",
          "height": 149
        },
        "outputId": "6829ea1e-e72c-45c2-8790-ad5092737e88"
      },
      "cell_type": "code",
      "source": [
        "import matplotlib.pyplot as plt\n",
        "import numpy as np\n",
        "\n",
        "plt.figure(figsize=[20,5])\n",
        "\n",
        "plt.subplots_adjust(hspace=0.2,wspace=0.2)\n",
        "\n",
        "for i in range(1,11):\n",
        "  plt.subplot(1,11,i)\n",
        "  #plt.grid(axis=False)\n",
        "  plt.axis('off')\n",
        "  plt.imshow(np.reshape(trainX[i],(28,28)))\n",
        "  \n",
        "plt.title('How the handwritten images look like')  \n",
        "plt.show()\n"
      ],
      "execution_count": 35,
      "outputs": [
        {
          "output_type": "display_data",
          "data": {
            "image/png": "[encoded data removed]",
            "text/plain": [
              "<matplotlib.figure.Figure at 0x7fbf1d496278>"
            ]
          },
          "metadata": {
            "tags": []
          }
        }
      ]
    },
    {
      "metadata": {
        "id": "5_WHfsH6LXgD",
        "colab_type": "text"
      },
      "cell_type": "markdown",
      "source": [
        "**Set Random seed**"
      ]
    },
    {
      "metadata": {
        "id": "Aj2PpKsgLdbm",
        "colab_type": "code",
        "colab": {}
      },
      "cell_type": "code",
      "source": [
        "np.random.seed(42)"
      ],
      "execution_count": 0,
      "outputs": []
    },
    {
      "metadata": {
        "id": "6DvF-s0gZBgX",
        "colab_type": "text"
      },
      "cell_type": "markdown",
      "source": [
        "# Build the graph\n",
        "\n",
        "**Using Keras to build the model**\n",
        "\n",
        "![alt text](https://drive.google.com/drive/my-drive/model.JPG)"
      ]
    },
    {
      "metadata": {
        "id": "elDhXNeYZSXY",
        "colab_type": "code",
        "colab": {}
      },
      "cell_type": "code",
      "source": [
        "#Sequential model\n",
        "from tensorflow.keras.models import Sequential\n",
        "\n",
        "#Import Keras Layers\n",
        "from tensorflow.keras.layers import MaxPool2D, Conv2D,Dense,Dropout,Reshape,Flatten\n",
        "\n",
        "#Model Check point and Tensor board\n",
        "from tensorflow.keras.callbacks import  ModelCheckpoint,TensorBoard"
      ],
      "execution_count": 0,
      "outputs": []
    },
    {
      "metadata": {
        "id": "mkTNehChs1BT",
        "colab_type": "text"
      },
      "cell_type": "markdown",
      "source": [
        "**Start a Sequential Model**"
      ]
    },
    {
      "metadata": {
        "id": "7VeLUaJ5IcuJ",
        "colab_type": "code",
        "colab": {}
      },
      "cell_type": "code",
      "source": [
        "model=Sequential()"
      ],
      "execution_count": 0,
      "outputs": []
    },
    {
      "metadata": {
        "id": "NKGlewqzs9fl",
        "colab_type": "text"
      },
      "cell_type": "markdown",
      "source": [
        "**Input (Reshape the Data)**"
      ]
    },
    {
      "metadata": {
        "id": "73N8FChltABq",
        "colab_type": "code",
        "colab": {}
      },
      "cell_type": "code",
      "source": [
        "model.add(Reshape((28,28,1),input_shape=(784,)))"
      ],
      "execution_count": 0,
      "outputs": []
    },
    {
      "metadata": {
        "id": "Qcb9-cABtuNq",
        "colab_type": "text"
      },
      "cell_type": "markdown",
      "source": [
        "**Add First Convolution Layer** (32 filters, with 3 by 3 kernel and stride of 1)"
      ]
    },
    {
      "metadata": {
        "id": "ddwTdTBAs7ye",
        "colab_type": "code",
        "colab": {}
      },
      "cell_type": "code",
      "source": [
        "model.add(Conv2D(filters=32,kernel_size=(3,3),strides=(1,1),activation='relu'))"
      ],
      "execution_count": 0,
      "outputs": []
    },
    {
      "metadata": {
        "id": "mdUaugEWu-lE",
        "colab_type": "text"
      },
      "cell_type": "markdown",
      "source": [
        "**Add Second Convolution layer**(64 filters with 3 by 3 kernel and stride of 1)"
      ]
    },
    {
      "metadata": {
        "id": "nrG5zk4-vKQh",
        "colab_type": "code",
        "colab": {}
      },
      "cell_type": "code",
      "source": [
        "model.add(Conv2D(filters=64,kernel_size=(3,3),strides=(1,1),activation='relu'))"
      ],
      "execution_count": 0,
      "outputs": []
    },
    {
      "metadata": {
        "id": "Bczat8GRviH7",
        "colab_type": "text"
      },
      "cell_type": "markdown",
      "source": [
        "**Add Max Pooling Layer **(2 by 2)"
      ]
    },
    {
      "metadata": {
        "id": "5ZCryBFIvq6O",
        "colab_type": "code",
        "colab": {}
      },
      "cell_type": "code",
      "source": [
        "model.add(MaxPool2D(pool_size=(2,2)))"
      ],
      "execution_count": 0,
      "outputs": []
    },
    {
      "metadata": {
        "id": "H94ItP-nwSLM",
        "colab_type": "text"
      },
      "cell_type": "markdown",
      "source": [
        "**Add Drop Out of 25%**"
      ]
    },
    {
      "metadata": {
        "id": "gInB4rnxwdnY",
        "colab_type": "code",
        "colab": {}
      },
      "cell_type": "code",
      "source": [
        "model.add(Dropout(rate=0.25))"
      ],
      "execution_count": 0,
      "outputs": []
    },
    {
      "metadata": {
        "id": "0ojKjsgww22n",
        "colab_type": "text"
      },
      "cell_type": "markdown",
      "source": [
        "**Flatten the image **"
      ]
    },
    {
      "metadata": {
        "id": "MpHQEhgzw634",
        "colab_type": "code",
        "colab": {}
      },
      "cell_type": "code",
      "source": [
        "model.add(Flatten())"
      ],
      "execution_count": 0,
      "outputs": []
    },
    {
      "metadata": {
        "id": "HuapUfnQxE6s",
        "colab_type": "text"
      },
      "cell_type": "markdown",
      "source": [
        "**Add fully connected layer (128 neurons)**"
      ]
    },
    {
      "metadata": {
        "id": "-V0k-kNlxMOU",
        "colab_type": "code",
        "colab": {}
      },
      "cell_type": "code",
      "source": [
        "model.add(Dense(units=128,activation='relu'))"
      ],
      "execution_count": 0,
      "outputs": []
    },
    {
      "metadata": {
        "id": "FAADu89xxrN_",
        "colab_type": "text"
      },
      "cell_type": "markdown",
      "source": [
        "**Add another Drop Out (50%)**"
      ]
    },
    {
      "metadata": {
        "id": "_ITU_l-RxxFU",
        "colab_type": "code",
        "colab": {}
      },
      "cell_type": "code",
      "source": [
        "model.add(Dropout(0.50))"
      ],
      "execution_count": 0,
      "outputs": []
    },
    {
      "metadata": {
        "id": "W7_JdGgwyL21",
        "colab_type": "text"
      },
      "cell_type": "markdown",
      "source": [
        "**Add Softmax**"
      ]
    },
    {
      "metadata": {
        "id": "waJbZn06yFI6",
        "colab_type": "code",
        "colab": {}
      },
      "cell_type": "code",
      "source": [
        "model.add(Dense(10,activation='softmax'))"
      ],
      "execution_count": 0,
      "outputs": []
    },
    {
      "metadata": {
        "id": "m-dIS6eDysgz",
        "colab_type": "text"
      },
      "cell_type": "markdown",
      "source": [
        "**Compile the model**"
      ]
    },
    {
      "metadata": {
        "id": "ZKSRAoKfymlH",
        "colab_type": "code",
        "colab": {}
      },
      "cell_type": "code",
      "source": [
        "model.compile(optimizer='adam',loss='categorical_crossentropy',metrics=['accuracy'])"
      ],
      "execution_count": 0,
      "outputs": []
    },
    {
      "metadata": {
        "id": "R3G-uDql1SkV",
        "colab_type": "text"
      },
      "cell_type": "markdown",
      "source": [
        "**Define Checkpoint based on Best accuracy of test data**"
      ]
    },
    {
      "metadata": {
        "id": "W-c4DfHO1dKE",
        "colab_type": "code",
        "colab": {}
      },
      "cell_type": "code",
      "source": [
        "checkpoint=ModelCheckpoint('mnist_keras_cnn-v1',monitor='val_acc',verbose=1,save_best_only=True,mode='max')"
      ],
      "execution_count": 0,
      "outputs": []
    },
    {
      "metadata": {
        "id": "vEPg0_zl4_zD",
        "colab_type": "text"
      },
      "cell_type": "markdown",
      "source": [
        "**Train and execute the graph**"
      ]
    },
    {
      "metadata": {
        "id": "BYsnIlAq2m7z",
        "colab_type": "code",
        "colab": {
          "base_uri": "https://localhost:8080/",
          "height": 2086
        },
        "outputId": "b349f5ab-7698-4cee-a7d6-1ff34d08d10e"
      },
      "cell_type": "code",
      "source": [
        "model.fit(x=trainX,y=trainY,batch_size=100,epochs=30,validation_data=[testX,testY],callbacks=[checkpoint,TensorBoard(log_dir='')])"
      ],
      "execution_count": 38,
      "outputs": [
        {
          "output_type": "stream",
          "text": [
            "Train on 55000 samples, validate on 10000 samples\n",
            "Epoch 1/30\n",
            "55000/55000 [==============================] - 11s 198us/step - loss: 0.2351 - acc: 0.9281 - val_loss: 0.0504 - val_acc: 0.9851\n",
            "\n",
            "Epoch 00001: val_acc improved from -inf to 0.98510, saving model to mnist_keras_cnn-v1\n",
            "Epoch 2/30\n",
            "55000/55000 [==============================] - 10s 175us/step - loss: 0.0838 - acc: 0.9742 - val_loss: 0.0342 - val_acc: 0.9886\n",
            "\n",
            "Epoch 00002: val_acc improved from 0.98510 to 0.98860, saving model to mnist_keras_cnn-v1\n",
            "Epoch 3/30\n",
            " 8500/55000 [===>..........................] - ETA: 7s - loss: 0.0650 - acc: 0.9801"
          ],
          "name": "stdout"
        },
        {
          "output_type": "stream",
          "text": [
            "55000/55000 [==============================] - 10s 176us/step - loss: 0.0658 - acc: 0.9800 - val_loss: 0.0326 - val_acc: 0.9900\n",
            "\n",
            "Epoch 00003: val_acc improved from 0.98860 to 0.99000, saving model to mnist_keras_cnn-v1\n",
            "Epoch 4/30\n",
            "55000/55000 [==============================] - 10s 174us/step - loss: 0.0530 - acc: 0.9837 - val_loss: 0.0309 - val_acc: 0.9906\n",
            "\n",
            "Epoch 00004: val_acc improved from 0.99000 to 0.99060, saving model to mnist_keras_cnn-v1\n",
            "Epoch 5/30\n",
            "23700/55000 [===========>..................] - ETA: 5s - loss: 0.0441 - acc: 0.9860"
          ],
          "name": "stdout"
        },
        {
          "output_type": "stream",
          "text": [
            "55000/55000 [==============================] - 10s 174us/step - loss: 0.0453 - acc: 0.9857 - val_loss: 0.0348 - val_acc: 0.9890\n",
            "\n",
            "Epoch 00005: val_acc did not improve from 0.99060\n",
            "Epoch 6/30\n",
            "55000/55000 [==============================] - 10s 174us/step - loss: 0.0403 - acc: 0.9874 - val_loss: 0.0294 - val_acc: 0.9912\n",
            "\n",
            "Epoch 00006: val_acc improved from 0.99060 to 0.99120, saving model to mnist_keras_cnn-v1\n",
            "Epoch 7/30\n",
            "32300/55000 [================>.............] - ETA: 3s - loss: 0.0368 - acc: 0.9880"
          ],
          "name": "stdout"
        },
        {
          "output_type": "stream",
          "text": [
            "55000/55000 [==============================] - 10s 174us/step - loss: 0.0361 - acc: 0.9885 - val_loss: 0.0298 - val_acc: 0.9910\n",
            "\n",
            "Epoch 00007: val_acc did not improve from 0.99120\n",
            "Epoch 8/30\n",
            "55000/55000 [==============================] - 10s 173us/step - loss: 0.0322 - acc: 0.9899 - val_loss: 0.0254 - val_acc: 0.9920\n",
            "\n",
            "Epoch 00008: val_acc improved from 0.99120 to 0.99200, saving model to mnist_keras_cnn-v1\n",
            "Epoch 9/30\n",
            "33400/55000 [=================>............] - ETA: 3s - loss: 0.0277 - acc: 0.9919"
          ],
          "name": "stdout"
        },
        {
          "output_type": "stream",
          "text": [
            "55000/55000 [==============================] - 10s 174us/step - loss: 0.0294 - acc: 0.9911 - val_loss: 0.0245 - val_acc: 0.9927\n",
            "\n",
            "Epoch 00009: val_acc improved from 0.99200 to 0.99270, saving model to mnist_keras_cnn-v1\n",
            "Epoch 10/30\n",
            "55000/55000 [==============================] - 10s 174us/step - loss: 0.0254 - acc: 0.9916 - val_loss: 0.0271 - val_acc: 0.9920\n",
            "\n",
            "Epoch 00010: val_acc did not improve from 0.99270\n",
            "Epoch 11/30\n",
            "30100/55000 [===============>..............] - ETA: 4s - loss: 0.0224 - acc: 0.9927"
          ],
          "name": "stdout"
        },
        {
          "output_type": "stream",
          "text": [
            "55000/55000 [==============================] - 10s 173us/step - loss: 0.0240 - acc: 0.9922 - val_loss: 0.0254 - val_acc: 0.9924\n",
            "\n",
            "Epoch 00011: val_acc did not improve from 0.99270\n",
            "Epoch 12/30\n",
            "55000/55000 [==============================] - 9s 173us/step - loss: 0.0213 - acc: 0.9929 - val_loss: 0.0246 - val_acc: 0.9928\n",
            "\n",
            "Epoch 00012: val_acc improved from 0.99270 to 0.99280, saving model to mnist_keras_cnn-v1\n",
            "Epoch 13/30\n",
            "35700/55000 [==================>...........] - ETA: 3s - loss: 0.0200 - acc: 0.9930"
          ],
          "name": "stdout"
        },
        {
          "output_type": "stream",
          "text": [
            "55000/55000 [==============================] - 10s 175us/step - loss: 0.0215 - acc: 0.9930 - val_loss: 0.0264 - val_acc: 0.9920\n",
            "\n",
            "Epoch 00013: val_acc did not improve from 0.99280\n",
            "Epoch 14/30\n",
            "55000/55000 [==============================] - 10s 176us/step - loss: 0.0187 - acc: 0.9936 - val_loss: 0.0258 - val_acc: 0.9925\n",
            "\n",
            "Epoch 00014: val_acc did not improve from 0.99280\n",
            "Epoch 15/30\n",
            "36100/55000 [==================>...........] - ETA: 3s - loss: 0.0164 - acc: 0.9944"
          ],
          "name": "stdout"
        },
        {
          "output_type": "stream",
          "text": [
            "55000/55000 [==============================] - 10s 174us/step - loss: 0.0180 - acc: 0.9940 - val_loss: 0.0264 - val_acc: 0.9929\n",
            "\n",
            "Epoch 00015: val_acc improved from 0.99280 to 0.99290, saving model to mnist_keras_cnn-v1\n",
            "Epoch 16/30\n",
            "55000/55000 [==============================] - 10s 175us/step - loss: 0.0170 - acc: 0.9943 - val_loss: 0.0262 - val_acc: 0.9926\n",
            "\n",
            "Epoch 00016: val_acc did not improve from 0.99290\n",
            "Epoch 17/30\n",
            "28400/55000 [==============>...............] - ETA: 4s - loss: 0.0148 - acc: 0.9948"
          ],
          "name": "stdout"
        },
        {
          "output_type": "stream",
          "text": [
            "55000/55000 [==============================] - 10s 176us/step - loss: 0.0146 - acc: 0.9950 - val_loss: 0.0272 - val_acc: 0.9928\n",
            "\n",
            "Epoch 00017: val_acc did not improve from 0.99290\n",
            "Epoch 18/30\n",
            "55000/55000 [==============================] - 10s 175us/step - loss: 0.0172 - acc: 0.9941 - val_loss: 0.0240 - val_acc: 0.9935\n",
            "\n",
            "Epoch 00018: val_acc improved from 0.99290 to 0.99350, saving model to mnist_keras_cnn-v1\n",
            "Epoch 19/30\n",
            "32600/55000 [================>.............] - ETA: 3s - loss: 0.0146 - acc: 0.9952"
          ],
          "name": "stdout"
        },
        {
          "output_type": "stream",
          "text": [
            "55000/55000 [==============================] - 10s 175us/step - loss: 0.0162 - acc: 0.9948 - val_loss: 0.0260 - val_acc: 0.9931\n",
            "\n",
            "Epoch 00019: val_acc did not improve from 0.99350\n",
            "Epoch 20/30\n",
            "55000/55000 [==============================] - 10s 173us/step - loss: 0.0127 - acc: 0.9956 - val_loss: 0.0284 - val_acc: 0.9937\n",
            "\n",
            "Epoch 00020: val_acc improved from 0.99350 to 0.99370, saving model to mnist_keras_cnn-v1\n",
            "Epoch 21/30\n",
            "33600/55000 [=================>............] - ETA: 3s - loss: 0.0138 - acc: 0.9953"
          ],
          "name": "stdout"
        },
        {
          "output_type": "stream",
          "text": [
            "55000/55000 [==============================] - 10s 175us/step - loss: 0.0137 - acc: 0.9953 - val_loss: 0.0279 - val_acc: 0.9931\n",
            "\n",
            "Epoch 00021: val_acc did not improve from 0.99370\n",
            "Epoch 22/30\n",
            "55000/55000 [==============================] - 10s 174us/step - loss: 0.0117 - acc: 0.9960 - val_loss: 0.0266 - val_acc: 0.9929\n",
            "\n",
            "Epoch 00022: val_acc did not improve from 0.99370\n",
            "Epoch 23/30\n",
            "38400/55000 [===================>..........] - ETA: 2s - loss: 0.0116 - acc: 0.9963"
          ],
          "name": "stdout"
        },
        {
          "output_type": "stream",
          "text": [
            "55000/55000 [==============================] - 10s 174us/step - loss: 0.0121 - acc: 0.9961 - val_loss: 0.0332 - val_acc: 0.9924\n",
            "\n",
            "Epoch 00023: val_acc did not improve from 0.99370\n",
            "Epoch 24/30\n",
            "55000/55000 [==============================] - 10s 173us/step - loss: 0.0113 - acc: 0.9962 - val_loss: 0.0335 - val_acc: 0.9928\n",
            "\n",
            "Epoch 00024: val_acc did not improve from 0.99370\n",
            "Epoch 25/30\n",
            "36500/55000 [==================>...........] - ETA: 3s - loss: 0.0117 - acc: 0.9962"
          ],
          "name": "stdout"
        },
        {
          "output_type": "stream",
          "text": [
            "55000/55000 [==============================] - 10s 178us/step - loss: 0.0127 - acc: 0.9960 - val_loss: 0.0290 - val_acc: 0.9931\n",
            "\n",
            "Epoch 00025: val_acc did not improve from 0.99370\n",
            "Epoch 26/30\n",
            "55000/55000 [==============================] - 10s 176us/step - loss: 0.0104 - acc: 0.9963 - val_loss: 0.0324 - val_acc: 0.9928\n",
            "\n",
            "Epoch 00026: val_acc did not improve from 0.99370\n",
            "Epoch 27/30\n",
            "35900/55000 [==================>...........] - ETA: 3s - loss: 0.0087 - acc: 0.9970"
          ],
          "name": "stdout"
        },
        {
          "output_type": "stream",
          "text": [
            "55000/55000 [==============================] - 10s 174us/step - loss: 0.0097 - acc: 0.9967 - val_loss: 0.0340 - val_acc: 0.9919\n",
            "\n",
            "Epoch 00027: val_acc did not improve from 0.99370\n",
            "Epoch 28/30\n",
            "55000/55000 [==============================] - 10s 173us/step - loss: 0.0113 - acc: 0.9961 - val_loss: 0.0307 - val_acc: 0.9923\n",
            "\n",
            "Epoch 00028: val_acc did not improve from 0.99370\n",
            "Epoch 29/30\n",
            "39700/55000 [====================>.........] - ETA: 2s - loss: 0.0110 - acc: 0.9963"
          ],
          "name": "stdout"
        },
        {
          "output_type": "stream",
          "text": [
            "55000/55000 [==============================] - 9s 173us/step - loss: 0.0112 - acc: 0.9961 - val_loss: 0.0305 - val_acc: 0.9936\n",
            "\n",
            "Epoch 00029: val_acc did not improve from 0.99370\n",
            "Epoch 30/30\n",
            "55000/55000 [==============================] - 10s 174us/step - loss: 0.0098 - acc: 0.9966 - val_loss: 0.0338 - val_acc: 0.9928\n",
            "\n",
            "Epoch 00030: val_acc did not improve from 0.99370\n"
          ],
          "name": "stdout"
        },
        {
          "output_type": "execute_result",
          "data": {
            "text/plain": [
              "<tensorflow.python.keras.callbacks.History at 0x7fbf1a42e4a8>"
            ]
          },
          "metadata": {
            "tags": []
          },
          "execution_count": 38
        }
      ]
    },
    {
      "metadata": {
        "id": "GgPGhEiC8gzX",
        "colab_type": "text"
      },
      "cell_type": "markdown",
      "source": [
        "**Predict the images**"
      ]
    },
    {
      "metadata": {
        "id": "SFJvh-Ln8keL",
        "colab_type": "code",
        "colab": {}
      },
      "cell_type": "code",
      "source": [
        "y_pred=model.predict(testX)"
      ],
      "execution_count": 0,
      "outputs": []
    },
    {
      "metadata": {
        "id": "Box-Ln4t86fH",
        "colab_type": "code",
        "colab": {
          "base_uri": "https://localhost:8080/",
          "height": 34
        },
        "outputId": "45250744-503f-436a-f34d-588d1c8e61fa"
      },
      "cell_type": "code",
      "source": [
        "np.argmax(y_pred[1])"
      ],
      "execution_count": 41,
      "outputs": [
        {
          "output_type": "execute_result",
          "data": {
            "text/plain": [
              "2"
            ]
          },
          "metadata": {
            "tags": []
          },
          "execution_count": 41
        }
      ]
    },
    {
      "metadata": {
        "id": "w4ODz0xs88sX",
        "colab_type": "code",
        "colab": {
          "base_uri": "https://localhost:8080/",
          "height": 34
        },
        "outputId": "5ee7f5fa-aeb7-4eb8-dab0-396db9fc5b07"
      },
      "cell_type": "code",
      "source": [
        "np.argmax(testY[1])"
      ],
      "execution_count": 43,
      "outputs": [
        {
          "output_type": "execute_result",
          "data": {
            "text/plain": [
              "2"
            ]
          },
          "metadata": {
            "tags": []
          },
          "execution_count": 43
        }
      ]
    },
    {
      "metadata": {
        "id": "BKiJf1519Rk7",
        "colab_type": "code",
        "colab": {
          "base_uri": "https://localhost:8080/",
          "height": 320
        },
        "outputId": "fac6a1e4-3937-4c43-87d5-916563e09a9b"
      },
      "cell_type": "code",
      "source": [
        "plt.figure(figsize=(20,10))\n",
        "plt.subplots_adjust(hspace=0.1,wspace=0.1)\n",
        "\n",
        "for i in range(1,11):\n",
        "  plt.subplot(1,10,i)\n",
        "  print('Predicted Number of picture',i,'is==>',np.argmax(y_pred[i]))\n",
        "  plt.imshow(np.reshape(testX[i],(28,28)))\n",
        "  plt.axis('off')\n",
        "  "
      ],
      "execution_count": 53,
      "outputs": [
        {
          "output_type": "stream",
          "text": [
            "Predicted Number of picture 1 is==> 2\n",
            "Predicted Number of picture 2 is==> 1\n",
            "Predicted Number of picture 3 is==> 0\n",
            "Predicted Number of picture 4 is==> 4\n",
            "Predicted Number of picture 5 is==> 1\n",
            "Predicted Number of picture 6 is==> 4\n",
            "Predicted Number of picture 7 is==> 9\n",
            "Predicted Number of picture 8 is==> 5\n",
            "Predicted Number of picture 9 is==> 9\n",
            "Predicted Number of picture 10 is==> 0\n"
          ],
          "name": "stdout"
        },
        {
          "output_type": "display_data",
          "data": {
            "image/png": "[encoded data removed]",
            "text/plain": [
              "<matplotlib.figure.Figure at 0x7fbee93907b8>"
            ]
          },
          "metadata": {
            "tags": []
          }
        }
      ]
    },
    {
      "metadata": {
        "id": "skzScb5y-CXl",
        "colab_type": "code",
        "colab": {}
      },
      "cell_type": "code",
      "source": [
        ""
      ],
      "execution_count": 0,
      "outputs": []
    }
  ]
}