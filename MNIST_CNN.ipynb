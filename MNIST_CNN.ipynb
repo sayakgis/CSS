{
  "nbformat": 4,
  "nbformat_minor": 0,
  "metadata": {
    "colab": {
      "name": "MNIST_CNN.ipynb",
      "version": "0.3.2",
      "provenance": [],
      "collapsed_sections": [],
      "include_colab_link": true
    },
    "kernelspec": {
      "name": "python3",
      "display_name": "Python 3"
    },
    "accelerator": "GPU"
  },
  "cells": [
    {
      "cell_type": "markdown",
      "metadata": {
        "id": "view-in-github",
        "colab_type": "text"
      },
      "source": [
        "[View in Colaboratory](https://colab.research.google.com/github/sayakgis/Handwritten_Digit_Prediction_DL-Work-in-progress-/blob/master/MNIST_CNN.ipynb)"
      ]
    },
    {
      "metadata": {
        "id": "3LRQL7_XENY1",
        "colab_type": "text"
      },
      "cell_type": "markdown",
      "source": [
        "\n",
        "---\n",
        "# MNIST Handwritten images detection using CNN (Deep Learning)\n",
        "\n",
        "---\n",
        "\n",
        "\n"
      ]
    },
    {
      "metadata": {
        "id": "m-4rSWx4Fv1G",
        "colab_type": "text"
      },
      "cell_type": "markdown",
      "source": [
        "**Collect data**"
      ]
    },
    {
      "metadata": {
        "id": "tAvS4LcwEpB7",
        "colab_type": "code",
        "colab": {
          "base_uri": "https://localhost:8080/",
          "height": 524
        },
        "outputId": "c1318cec-49ca-407c-c580-1d9c8a457c7c"
      },
      "cell_type": "code",
      "source": [
        "# Collect data\n",
        "from tensorflow.examples.tutorials.mnist import input_data\n",
        "MNIST=input_data.read_data_sets('MNIST_data',one_hot=True)\n"
      ],
      "execution_count": 2,
      "outputs": [
        {
          "output_type": "stream",
          "text": [
            "WARNING:tensorflow:From <ipython-input-2-9b9123189b75>:2: read_data_sets (from tensorflow.contrib.learn.python.learn.datasets.mnist) is deprecated and will be removed in a future version.\n",
            "Instructions for updating:\n",
            "Please use alternatives such as official/mnist/dataset.py from tensorflow/models.\n",
            "WARNING:tensorflow:From /usr/local/lib/python3.6/dist-packages/tensorflow/contrib/learn/python/learn/datasets/mnist.py:260: maybe_download (from tensorflow.contrib.learn.python.learn.datasets.base) is deprecated and will be removed in a future version.\n",
            "Instructions for updating:\n",
            "Please write your own downloading logic.\n",
            "WARNING:tensorflow:From /usr/local/lib/python3.6/dist-packages/tensorflow/contrib/learn/python/learn/datasets/base.py:252: _internal_retry.<locals>.wrap.<locals>.wrapped_fn (from tensorflow.contrib.learn.python.learn.datasets.base) is deprecated and will be removed in a future version.\n",
            "Instructions for updating:\n",
            "Please use urllib or similar directly.\n",
            "Successfully downloaded train-images-idx3-ubyte.gz 9912422 bytes.\n",
            "WARNING:tensorflow:From /usr/local/lib/python3.6/dist-packages/tensorflow/contrib/learn/python/learn/datasets/mnist.py:262: extract_images (from tensorflow.contrib.learn.python.learn.datasets.mnist) is deprecated and will be removed in a future version.\n",
            "Instructions for updating:\n",
            "Please use tf.data to implement this functionality.\n",
            "Extracting MNIST_data/train-images-idx3-ubyte.gz\n",
            "Successfully downloaded train-labels-idx1-ubyte.gz 28881 bytes.\n",
            "WARNING:tensorflow:From /usr/local/lib/python3.6/dist-packages/tensorflow/contrib/learn/python/learn/datasets/mnist.py:267: extract_labels (from tensorflow.contrib.learn.python.learn.datasets.mnist) is deprecated and will be removed in a future version.\n",
            "Instructions for updating:\n",
            "Please use tf.data to implement this functionality.\n",
            "Extracting MNIST_data/train-labels-idx1-ubyte.gz\n",
            "WARNING:tensorflow:From /usr/local/lib/python3.6/dist-packages/tensorflow/contrib/learn/python/learn/datasets/mnist.py:110: dense_to_one_hot (from tensorflow.contrib.learn.python.learn.datasets.mnist) is deprecated and will be removed in a future version.\n",
            "Instructions for updating:\n",
            "Please use tf.one_hot on tensors.\n",
            "Successfully downloaded t10k-images-idx3-ubyte.gz 1648877 bytes.\n",
            "Extracting MNIST_data/t10k-images-idx3-ubyte.gz\n",
            "Successfully downloaded t10k-labels-idx1-ubyte.gz 4542 bytes.\n",
            "Extracting MNIST_data/t10k-labels-idx1-ubyte.gz\n",
            "WARNING:tensorflow:From /usr/local/lib/python3.6/dist-packages/tensorflow/contrib/learn/python/learn/datasets/mnist.py:290: DataSet.__init__ (from tensorflow.contrib.learn.python.learn.datasets.mnist) is deprecated and will be removed in a future version.\n",
            "Instructions for updating:\n",
            "Please use alternatives such as official/mnist/dataset.py from tensorflow/models.\n"
          ],
          "name": "stdout"
        }
      ]
    },
    {
      "metadata": {
        "id": "xrIT6BndGXHl",
        "colab_type": "code",
        "colab": {
          "base_uri": "https://localhost:8080/",
          "height": 34
        },
        "outputId": "f0c723a8-4e62-4899-c1cc-86ff0f56a68a"
      },
      "cell_type": "code",
      "source": [
        "!ls        #Check directory for files"
      ],
      "execution_count": 3,
      "outputs": [
        {
          "output_type": "stream",
          "text": [
            "datalab  MNIST_data\r\n"
          ],
          "name": "stdout"
        }
      ]
    },
    {
      "metadata": {
        "id": "-DMcBsjLGm2M",
        "colab_type": "text"
      },
      "cell_type": "markdown",
      "source": [
        "**Training and Test data**"
      ]
    },
    {
      "metadata": {
        "id": "JPOjfB9DGYX1",
        "colab_type": "code",
        "colab": {}
      },
      "cell_type": "code",
      "source": [
        "# Training dataset\n",
        "trainX=MNIST.train.images\n",
        "trainY=MNIST.train.labels\n",
        "\n",
        "#Test Data\n",
        "testX=MNIST.test.images\n",
        "testY=MNIST.test.labels"
      ],
      "execution_count": 0,
      "outputs": []
    },
    {
      "metadata": {
        "id": "mGFbfEh_Glum",
        "colab_type": "text"
      },
      "cell_type": "markdown",
      "source": [
        "**Shape of the data**"
      ]
    },
    {
      "metadata": {
        "id": "HpWw4D3UHijs",
        "colab_type": "code",
        "colab": {
          "base_uri": "https://localhost:8080/",
          "height": 84
        },
        "outputId": "26e8707e-e909-4b0b-8b02-31c861fe93ef"
      },
      "cell_type": "code",
      "source": [
        "print('Training X size:',trainX.shape)\n",
        "print('Training Y size:',trainY.shape)     #One hot encoded labels\n",
        "\n",
        "print('Test X size:',testX.shape)\n",
        "print('Test Y size:',testY.shape)\n"
      ],
      "execution_count": 5,
      "outputs": [
        {
          "output_type": "stream",
          "text": [
            "Training X size: (55000, 784)\n",
            "Training Y size: (55000, 10)\n",
            "Test X size: (10000, 784)\n",
            "Test Y size: (10000, 10)\n"
          ],
          "name": "stdout"
        }
      ]
    },
    {
      "metadata": {
        "id": "yzQaYBNtITvZ",
        "colab_type": "text"
      },
      "cell_type": "markdown",
      "source": [
        "**How the data looks like?**"
      ]
    },
    {
      "metadata": {
        "id": "RGcHBSJ4HyUp",
        "colab_type": "code",
        "colab": {
          "base_uri": "https://localhost:8080/",
          "height": 149
        },
        "outputId": "af8efef3-34f8-4d8a-be96-981e0a02ad7f"
      },
      "cell_type": "code",
      "source": [
        "import matplotlib.pyplot as plt\n",
        "import numpy as np\n",
        "\n",
        "plt.figure(figsize=[20,5])\n",
        "\n",
        "plt.subplots_adjust(hspace=0.2,wspace=0.2)\n",
        "\n",
        "for i in range(1,11):\n",
        "  plt.subplot(1,11,i)\n",
        "  #plt.grid(axis=False)\n",
        "  plt.axis('off')\n",
        "  plt.imshow(np.reshape(trainX[i],(28,28)))\n",
        "  \n",
        "plt.title('How the handwritten images look like')  \n",
        "plt.show()\n"
      ],
      "execution_count": 6,
      "outputs": [
        {
          "output_type": "display_data",
          "data": {
            "image/png": "[encoded data removed]",
            "text/plain": [
              "<matplotlib.figure.Figure at 0x7f36e06b7a90>"
            ]
          },
          "metadata": {
            "tags": []
          }
        }
      ]
    },
    {
      "metadata": {
        "id": "5_WHfsH6LXgD",
        "colab_type": "text"
      },
      "cell_type": "markdown",
      "source": [
        "**Set Random seed**"
      ]
    },
    {
      "metadata": {
        "id": "Aj2PpKsgLdbm",
        "colab_type": "code",
        "colab": {}
      },
      "cell_type": "code",
      "source": [
        "np.random.seed(42)"
      ],
      "execution_count": 0,
      "outputs": []
    },
    {
      "metadata": {
        "id": "6DvF-s0gZBgX",
        "colab_type": "text"
      },
      "cell_type": "markdown",
      "source": [
        "# Build the graph\n",
        "\n",
        "**Using Keras to build the model**\n",
        "\n",
        "![alt text](https://drive.google.com/drive/my-drive/model.JPG)"
      ]
    },
    {
      "metadata": {
        "id": "elDhXNeYZSXY",
        "colab_type": "code",
        "colab": {}
      },
      "cell_type": "code",
      "source": [
        "#Sequential model\n",
        "from tensorflow.keras.models import Sequential\n",
        "\n",
        "#Import Keras Layers\n",
        "from tensorflow.keras.layers import MaxPool2D, Conv2D,Dense,Dropout,Reshape,Flatten\n",
        "\n",
        "#Model Check point and Tensor board\n",
        "from tensorflow.keras.callbacks import  ModelCheckpoint,TensorBoard"
      ],
      "execution_count": 0,
      "outputs": []
    },
    {
      "metadata": {
        "id": "mkTNehChs1BT",
        "colab_type": "text"
      },
      "cell_type": "markdown",
      "source": [
        "**Start a Sequential Model**"
      ]
    },
    {
      "metadata": {
        "id": "7VeLUaJ5IcuJ",
        "colab_type": "code",
        "colab": {}
      },
      "cell_type": "code",
      "source": [
        "model=Sequential()"
      ],
      "execution_count": 0,
      "outputs": []
    },
    {
      "metadata": {
        "id": "NKGlewqzs9fl",
        "colab_type": "text"
      },
      "cell_type": "markdown",
      "source": [
        "**Input (Reshape the Data)**"
      ]
    },
    {
      "metadata": {
        "id": "73N8FChltABq",
        "colab_type": "code",
        "colab": {}
      },
      "cell_type": "code",
      "source": [
        "model.add(Reshape((28,28,1),input_shape=(784,)))"
      ],
      "execution_count": 0,
      "outputs": []
    },
    {
      "metadata": {
        "id": "Qcb9-cABtuNq",
        "colab_type": "text"
      },
      "cell_type": "markdown",
      "source": [
        "**Add First Convolution Layer** (32 filters, with 3 by 3 kernel and stride of 1)"
      ]
    },
    {
      "metadata": {
        "id": "ddwTdTBAs7ye",
        "colab_type": "code",
        "colab": {}
      },
      "cell_type": "code",
      "source": [
        "model.add(Conv2D(filters=32,kernel_size=(3,3),strides=(1,1),activation='relu'))"
      ],
      "execution_count": 0,
      "outputs": []
    },
    {
      "metadata": {
        "id": "mdUaugEWu-lE",
        "colab_type": "text"
      },
      "cell_type": "markdown",
      "source": [
        "**Add Second Convolution layer**(64 filters with 3 by 3 kernel and stride of 1)"
      ]
    },
    {
      "metadata": {
        "id": "nrG5zk4-vKQh",
        "colab_type": "code",
        "colab": {}
      },
      "cell_type": "code",
      "source": [
        "model.add(Conv2D(filters=64,kernel_size=(3,3),strides=(1,1),activation='relu'))"
      ],
      "execution_count": 0,
      "outputs": []
    },
    {
      "metadata": {
        "id": "Bczat8GRviH7",
        "colab_type": "text"
      },
      "cell_type": "markdown",
      "source": [
        "**Add Max Pooling Layer **(2 by 2)"
      ]
    },
    {
      "metadata": {
        "id": "5ZCryBFIvq6O",
        "colab_type": "code",
        "colab": {}
      },
      "cell_type": "code",
      "source": [
        "model.add(MaxPool2D(pool_size=(2,2)))"
      ],
      "execution_count": 0,
      "outputs": []
    },
    {
      "metadata": {
        "id": "H94ItP-nwSLM",
        "colab_type": "text"
      },
      "cell_type": "markdown",
      "source": [
        "**Add Drop Out of 25%**"
      ]
    },
    {
      "metadata": {
        "id": "gInB4rnxwdnY",
        "colab_type": "code",
        "colab": {}
      },
      "cell_type": "code",
      "source": [
        "model.add(Dropout(rate=0.25))"
      ],
      "execution_count": 0,
      "outputs": []
    },
    {
      "metadata": {
        "id": "0ojKjsgww22n",
        "colab_type": "text"
      },
      "cell_type": "markdown",
      "source": [
        "**Flatten the image **"
      ]
    },
    {
      "metadata": {
        "id": "MpHQEhgzw634",
        "colab_type": "code",
        "colab": {}
      },
      "cell_type": "code",
      "source": [
        "model.add(Flatten())"
      ],
      "execution_count": 0,
      "outputs": []
    },
    {
      "metadata": {
        "id": "HuapUfnQxE6s",
        "colab_type": "text"
      },
      "cell_type": "markdown",
      "source": [
        "**Add fully connected layer (128 neurons)**"
      ]
    },
    {
      "metadata": {
        "id": "-V0k-kNlxMOU",
        "colab_type": "code",
        "colab": {}
      },
      "cell_type": "code",
      "source": [
        "model.add(Dense(units=128,activation='relu'))"
      ],
      "execution_count": 0,
      "outputs": []
    },
    {
      "metadata": {
        "id": "FAADu89xxrN_",
        "colab_type": "text"
      },
      "cell_type": "markdown",
      "source": [
        "**Add another Drop Out (50%)**"
      ]
    },
    {
      "metadata": {
        "id": "_ITU_l-RxxFU",
        "colab_type": "code",
        "colab": {}
      },
      "cell_type": "code",
      "source": [
        "model.add(Dropout(0.50))"
      ],
      "execution_count": 0,
      "outputs": []
    },
    {
      "metadata": {
        "id": "W7_JdGgwyL21",
        "colab_type": "text"
      },
      "cell_type": "markdown",
      "source": [
        "**Add Softmax**"
      ]
    },
    {
      "metadata": {
        "id": "waJbZn06yFI6",
        "colab_type": "code",
        "colab": {}
      },
      "cell_type": "code",
      "source": [
        "model.add(Dense(10,activation='softmax'))"
      ],
      "execution_count": 0,
      "outputs": []
    },
    {
      "metadata": {
        "id": "m-dIS6eDysgz",
        "colab_type": "text"
      },
      "cell_type": "markdown",
      "source": [
        "**Compile the model**"
      ]
    },
    {
      "metadata": {
        "id": "ZKSRAoKfymlH",
        "colab_type": "code",
        "colab": {}
      },
      "cell_type": "code",
      "source": [
        "model.compile(optimizer='adam',loss='categorical_crossentropy',metrics=['accuracy'])"
      ],
      "execution_count": 0,
      "outputs": []
    },
    {
      "metadata": {
        "id": "R3G-uDql1SkV",
        "colab_type": "text"
      },
      "cell_type": "markdown",
      "source": [
        "**Define Checkpoint based on Best accuracy of test data**"
      ]
    },
    {
      "metadata": {
        "id": "W-c4DfHO1dKE",
        "colab_type": "code",
        "colab": {}
      },
      "cell_type": "code",
      "source": [
        "checkpoint=ModelCheckpoint('mnist_keras_cnn-v1',monitor='val_acc',verbose=1,save_best_only=True,mode='max')"
      ],
      "execution_count": 0,
      "outputs": []
    },
    {
      "metadata": {
        "id": "vEPg0_zl4_zD",
        "colab_type": "text"
      },
      "cell_type": "markdown",
      "source": [
        "**Train and execute the graph**"
      ]
    },
    {
      "metadata": {
        "id": "BYsnIlAq2m7z",
        "colab_type": "code",
        "colab": {
          "base_uri": "https://localhost:8080/",
          "height": 2086
        },
        "outputId": "733063b7-e43d-4f23-8269-acb9967c1052"
      },
      "cell_type": "code",
      "source": [
        "model.fit(x=trainX,y=trainY,batch_size=100,epochs=30,validation_data=[testX,testY],callbacks=[checkpoint,TensorBoard(log_dir='')])"
      ],
      "execution_count": 22,
      "outputs": [
        {
          "output_type": "stream",
          "text": [
            "Train on 55000 samples, validate on 10000 samples\n",
            "Epoch 1/30\n",
            "55000/55000 [==============================] - 11s 193us/step - loss: 0.2509 - acc: 0.9235 - val_loss: 0.0558 - val_acc: 0.9834\n",
            "\n",
            "Epoch 00001: val_acc improved from -inf to 0.98340, saving model to mnist_keras_cnn-v1\n",
            "Epoch 2/30\n",
            "55000/55000 [==============================] - 9s 169us/step - loss: 0.0714 - acc: 0.9794 - val_loss: 0.0508 - val_acc: 0.9835\n",
            "\n",
            "Epoch 00002: val_acc improved from 0.98340 to 0.98350, saving model to mnist_keras_cnn-v1\n",
            "Epoch 3/30\n",
            "15200/55000 [=======>......................] - ETA: 6s - loss: 0.0494 - acc: 0.9859"
          ],
          "name": "stdout"
        },
        {
          "output_type": "stream",
          "text": [
            "55000/55000 [==============================] - 9s 169us/step - loss: 0.0464 - acc: 0.9863 - val_loss: 0.0347 - val_acc: 0.9884\n",
            "\n",
            "Epoch 00003: val_acc improved from 0.98350 to 0.98840, saving model to mnist_keras_cnn-v1\n",
            "Epoch 4/30\n",
            "55000/55000 [==============================] - 9s 168us/step - loss: 0.0383 - acc: 0.9891 - val_loss: 0.0334 - val_acc: 0.9887\n",
            "\n",
            "Epoch 00004: val_acc improved from 0.98840 to 0.98870, saving model to mnist_keras_cnn-v1\n",
            "Epoch 5/30\n",
            "32100/55000 [================>.............] - ETA: 3s - loss: 0.0280 - acc: 0.9917"
          ],
          "name": "stdout"
        },
        {
          "output_type": "stream",
          "text": [
            "55000/55000 [==============================] - 9s 168us/step - loss: 0.0288 - acc: 0.9913 - val_loss: 0.0382 - val_acc: 0.9883\n",
            "\n",
            "Epoch 00005: val_acc did not improve from 0.98870\n",
            "Epoch 6/30\n",
            "55000/55000 [==============================] - 9s 168us/step - loss: 0.0237 - acc: 0.9929 - val_loss: 0.0312 - val_acc: 0.9907\n",
            "\n",
            "Epoch 00006: val_acc improved from 0.98870 to 0.99070, saving model to mnist_keras_cnn-v1\n",
            "Epoch 7/30\n",
            "42600/55000 [======================>.......] - ETA: 1s - loss: 0.0203 - acc: 0.9937"
          ],
          "name": "stdout"
        },
        {
          "output_type": "stream",
          "text": [
            "55000/55000 [==============================] - 9s 169us/step - loss: 0.0207 - acc: 0.9935 - val_loss: 0.0352 - val_acc: 0.9902\n",
            "\n",
            "Epoch 00007: val_acc did not improve from 0.99070\n",
            "Epoch 8/30\n",
            "55000/55000 [==============================] - 9s 169us/step - loss: 0.0178 - acc: 0.9942 - val_loss: 0.0414 - val_acc: 0.9894\n",
            "\n",
            "Epoch 00008: val_acc did not improve from 0.99070\n",
            "Epoch 9/30\n",
            "47700/55000 [=========================>....] - ETA: 1s - loss: 0.0155 - acc: 0.9954"
          ],
          "name": "stdout"
        },
        {
          "output_type": "stream",
          "text": [
            "55000/55000 [==============================] - 9s 168us/step - loss: 0.0155 - acc: 0.9955 - val_loss: 0.0365 - val_acc: 0.9902\n",
            "\n",
            "Epoch 00009: val_acc did not improve from 0.99070\n",
            "Epoch 10/30\n",
            "55000/55000 [==============================] - 9s 169us/step - loss: 0.0128 - acc: 0.9959 - val_loss: 0.0351 - val_acc: 0.9898\n",
            "\n",
            "Epoch 00010: val_acc did not improve from 0.99070\n",
            "Epoch 11/30\n",
            "48100/55000 [=========================>....] - ETA: 1s - loss: 0.0114 - acc: 0.9965"
          ],
          "name": "stdout"
        },
        {
          "output_type": "stream",
          "text": [
            "55000/55000 [==============================] - 9s 167us/step - loss: 0.0125 - acc: 0.9962 - val_loss: 0.0366 - val_acc: 0.9897\n",
            "\n",
            "Epoch 00011: val_acc did not improve from 0.99070\n",
            "Epoch 12/30\n",
            "55000/55000 [==============================] - 9s 168us/step - loss: 0.0119 - acc: 0.9963 - val_loss: 0.0415 - val_acc: 0.9895\n",
            "\n",
            "Epoch 00012: val_acc did not improve from 0.99070\n",
            "Epoch 13/30\n",
            "49300/55000 [=========================>....] - ETA: 0s - loss: 0.0096 - acc: 0.9971"
          ],
          "name": "stdout"
        },
        {
          "output_type": "stream",
          "text": [
            "55000/55000 [==============================] - 9s 169us/step - loss: 0.0101 - acc: 0.9970 - val_loss: 0.0458 - val_acc: 0.9896\n",
            "\n",
            "Epoch 00013: val_acc did not improve from 0.99070\n",
            "Epoch 14/30\n",
            "55000/55000 [==============================] - 9s 167us/step - loss: 0.0091 - acc: 0.9972 - val_loss: 0.0386 - val_acc: 0.9903\n",
            "\n",
            "Epoch 00014: val_acc did not improve from 0.99070\n",
            "Epoch 15/30\n",
            "48900/55000 [=========================>....] - ETA: 0s - loss: 0.0079 - acc: 0.9973"
          ],
          "name": "stdout"
        },
        {
          "output_type": "stream",
          "text": [
            "55000/55000 [==============================] - 9s 168us/step - loss: 0.0082 - acc: 0.9972 - val_loss: 0.0585 - val_acc: 0.9889\n",
            "\n",
            "Epoch 00015: val_acc did not improve from 0.99070\n",
            "Epoch 16/30\n",
            "55000/55000 [==============================] - 9s 168us/step - loss: 0.0090 - acc: 0.9975 - val_loss: 0.0365 - val_acc: 0.9916\n",
            "\n",
            "Epoch 00016: val_acc improved from 0.99070 to 0.99160, saving model to mnist_keras_cnn-v1\n",
            "Epoch 17/30\n",
            "44000/55000 [=======================>......] - ETA: 1s - loss: 0.0089 - acc: 0.9974"
          ],
          "name": "stdout"
        },
        {
          "output_type": "stream",
          "text": [
            "55000/55000 [==============================] - 9s 168us/step - loss: 0.0086 - acc: 0.9974 - val_loss: 0.0446 - val_acc: 0.9907\n",
            "\n",
            "Epoch 00017: val_acc did not improve from 0.99160\n",
            "Epoch 18/30\n",
            "55000/55000 [==============================] - 9s 167us/step - loss: 0.0070 - acc: 0.9979 - val_loss: 0.0347 - val_acc: 0.9919\n",
            "\n",
            "Epoch 00018: val_acc improved from 0.99160 to 0.99190, saving model to mnist_keras_cnn-v1\n",
            "Epoch 19/30\n",
            "45100/55000 [=======================>......] - ETA: 1s - loss: 0.0075 - acc: 0.9979"
          ],
          "name": "stdout"
        },
        {
          "output_type": "stream",
          "text": [
            "55000/55000 [==============================] - 9s 167us/step - loss: 0.0076 - acc: 0.9977 - val_loss: 0.0406 - val_acc: 0.9913\n",
            "\n",
            "Epoch 00019: val_acc did not improve from 0.99190\n",
            "Epoch 20/30\n",
            "55000/55000 [==============================] - 9s 168us/step - loss: 0.0058 - acc: 0.9982 - val_loss: 0.0466 - val_acc: 0.9909\n",
            "\n",
            "Epoch 00020: val_acc did not improve from 0.99190\n",
            "Epoch 21/30\n",
            "48900/55000 [=========================>....] - ETA: 0s - loss: 0.0074 - acc: 0.9977"
          ],
          "name": "stdout"
        },
        {
          "output_type": "stream",
          "text": [
            "55000/55000 [==============================] - 9s 168us/step - loss: 0.0073 - acc: 0.9977 - val_loss: 0.0423 - val_acc: 0.9918\n",
            "\n",
            "Epoch 00021: val_acc did not improve from 0.99190\n",
            "Epoch 22/30\n",
            "55000/55000 [==============================] - 9s 168us/step - loss: 0.0049 - acc: 0.9987 - val_loss: 0.0532 - val_acc: 0.9905\n",
            "\n",
            "Epoch 00022: val_acc did not improve from 0.99190\n",
            "Epoch 23/30\n",
            "48600/55000 [=========================>....] - ETA: 1s - loss: 0.0070 - acc: 0.9980"
          ],
          "name": "stdout"
        },
        {
          "output_type": "stream",
          "text": [
            "55000/55000 [==============================] - 9s 169us/step - loss: 0.0067 - acc: 0.9980 - val_loss: 0.0437 - val_acc: 0.9926\n",
            "\n",
            "Epoch 00023: val_acc improved from 0.99190 to 0.99260, saving model to mnist_keras_cnn-v1\n",
            "Epoch 24/30\n",
            "55000/55000 [==============================] - 9s 168us/step - loss: 0.0041 - acc: 0.9987 - val_loss: 0.0467 - val_acc: 0.9923\n",
            "\n",
            "Epoch 00024: val_acc did not improve from 0.99260\n",
            "Epoch 25/30\n",
            "40100/55000 [====================>.........] - ETA: 2s - loss: 0.0066 - acc: 0.9980"
          ],
          "name": "stdout"
        },
        {
          "output_type": "stream",
          "text": [
            "55000/55000 [==============================] - 9s 169us/step - loss: 0.0067 - acc: 0.9980 - val_loss: 0.0493 - val_acc: 0.9896\n",
            "\n",
            "Epoch 00025: val_acc did not improve from 0.99260\n",
            "Epoch 26/30\n",
            "55000/55000 [==============================] - 9s 169us/step - loss: 0.0057 - acc: 0.9984 - val_loss: 0.0493 - val_acc: 0.9918\n",
            "\n",
            "Epoch 00026: val_acc did not improve from 0.99260\n",
            "Epoch 27/30\n",
            "47200/55000 [========================>.....] - ETA: 1s - loss: 0.0041 - acc: 0.9989"
          ],
          "name": "stdout"
        },
        {
          "output_type": "stream",
          "text": [
            "55000/55000 [==============================] - 9s 168us/step - loss: 0.0042 - acc: 0.9989 - val_loss: 0.0437 - val_acc: 0.9919\n",
            "\n",
            "Epoch 00027: val_acc did not improve from 0.99260\n",
            "Epoch 28/30\n",
            "55000/55000 [==============================] - 9s 170us/step - loss: 0.0057 - acc: 0.9983 - val_loss: 0.0438 - val_acc: 0.9918\n",
            "\n",
            "Epoch 00028: val_acc did not improve from 0.99260\n",
            "Epoch 29/30\n",
            "46900/55000 [========================>.....] - ETA: 1s - loss: 0.0047 - acc: 0.9987"
          ],
          "name": "stdout"
        },
        {
          "output_type": "stream",
          "text": [
            "55000/55000 [==============================] - 9s 169us/step - loss: 0.0044 - acc: 0.9988 - val_loss: 0.0457 - val_acc: 0.9925\n",
            "\n",
            "Epoch 00029: val_acc did not improve from 0.99260\n",
            "Epoch 30/30\n",
            "55000/55000 [==============================] - 9s 170us/step - loss: 0.0041 - acc: 0.9987 - val_loss: 0.0560 - val_acc: 0.9903\n",
            "\n",
            "Epoch 00030: val_acc did not improve from 0.99260\n"
          ],
          "name": "stdout"
        },
        {
          "output_type": "execute_result",
          "data": {
            "text/plain": [
              "<tensorflow.python.keras.callbacks.History at 0x7f36dd9e11d0>"
            ]
          },
          "metadata": {
            "tags": []
          },
          "execution_count": 22
        }
      ]
    },
    {
      "metadata": {
        "id": "GgPGhEiC8gzX",
        "colab_type": "text"
      },
      "cell_type": "markdown",
      "source": [
        "**Predict the images**"
      ]
    },
    {
      "metadata": {
        "id": "BKiJf1519Rk7",
        "colab_type": "code",
        "colab": {
          "base_uri": "https://localhost:8080/",
          "height": 320
        },
        "outputId": "f7cc0c68-a840-4b9a-85af-1b9a52401c32"
      },
      "cell_type": "code",
      "source": [
        "y_pred=model.predict(testX)\n",
        "plt.figure(figsize=(20,10))\n",
        "plt.subplots_adjust(hspace=0.1,wspace=0.1)\n",
        "\n",
        "array_=np.random.randint(1,8000,11)\n",
        "\n",
        "for i,j in zip(array_,range(1,11)):\n",
        "  plt.subplot(1,10,j)\n",
        "  print('Predicted Number of picture',i,'is==>',np.argmax(y_pred[i]))\n",
        "  plt.imshow(np.reshape(testX[i],(28,28)))\n",
        "  plt.axis('off')\n",
        "  "
      ],
      "execution_count": 30,
      "outputs": [
        {
          "output_type": "stream",
          "text": [
            "Predicted Number of picture 2675 is==> 4\n",
            "Predicted Number of picture 7582 is==> 1\n",
            "Predicted Number of picture 1468 is==> 0\n",
            "Predicted Number of picture 2014 is==> 9\n",
            "Predicted Number of picture 7274 is==> 5\n",
            "Predicted Number of picture 4604 is==> 0\n",
            "Predicted Number of picture 4145 is==> 8\n",
            "Predicted Number of picture 7644 is==> 3\n",
            "Predicted Number of picture 2268 is==> 7\n",
            "Predicted Number of picture 6682 is==> 9\n"
          ],
          "name": "stdout"
        },
        {
          "output_type": "display_data",
          "data": {
            "image/png": "[encoded data removed]",
            "text/plain": [
              "<matplotlib.figure.Figure at 0x7f36acc5c390>"
            ]
          },
          "metadata": {
            "tags": []
          }
        }
      ]
    },
    {
      "metadata": {
        "id": "skzScb5y-CXl",
        "colab_type": "code",
        "colab": {
          "base_uri": "https://localhost:8080/",
          "height": 17
        },
        "outputId": "4ee94085-acc2-409e-8b04-5325ae400c32"
      },
      "cell_type": "code",
      "source": [
        ""
      ],
      "execution_count": 22,
      "outputs": []
    }
  ]
}