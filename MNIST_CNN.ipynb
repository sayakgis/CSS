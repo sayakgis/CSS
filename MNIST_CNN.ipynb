{
  "nbformat": 4,
  "nbformat_minor": 0,
  "metadata": {
    "colab": {
      "name": "MNIST_CNN.ipynb",
      "version": "0.3.2",
      "provenance": [],
      "collapsed_sections": [],
      "include_colab_link": true
    },
    "kernelspec": {
      "name": "python3",
      "display_name": "Python 3"
    },
    "accelerator": "GPU"
  },
  "cells": [
    {
      "cell_type": "markdown",
      "metadata": {
        "id": "view-in-github",
        "colab_type": "text"
      },
      "source": [
        "[View in Colaboratory](https://colab.research.google.com/github/sayakgis/Handwritten_Digit_Prediction_DL/blob/master/MNIST_CNN.ipynb)"
      ]
    },
    {
      "metadata": {
        "id": "3LRQL7_XENY1",
        "colab_type": "text"
      },
      "cell_type": "markdown",
      "source": [
        "\n",
        "---\n",
        "# MNIST Handwritten images detection using CNN (Deep Learning)\n",
        "\n",
        "---\n",
        "\n",
        "\n"
      ]
    },
    {
      "metadata": {
        "id": "m-4rSWx4Fv1G",
        "colab_type": "text"
      },
      "cell_type": "markdown",
      "source": [
        "**Collect data**"
      ]
    },
    {
      "metadata": {
        "id": "tAvS4LcwEpB7",
        "colab_type": "code",
        "colab": {}
      },
      "cell_type": "code",
      "source": [
        "# Collect data\n",
        "from tensorflow.examples.tutorials.mnist import input_data\n",
        "MNIST=input_data.read_data_sets('MNIST_data',one_hot=True)\n"
      ],
      "execution_count": 0,
      "outputs": []
    },
    {
      "metadata": {
        "id": "xrIT6BndGXHl",
        "colab_type": "code",
        "colab": {
          "base_uri": "https://localhost:8080/",
          "height": 34
        },
        "outputId": "ac5cc417-6f42-4b4f-9baf-f3732b4046cc"
      },
      "cell_type": "code",
      "source": [
        "!ls        #Check directory for files"
      ],
      "execution_count": 2,
      "outputs": [
        {
          "output_type": "stream",
          "text": [
            "datalab  MNIST_data\r\n"
          ],
          "name": "stdout"
        }
      ]
    },
    {
      "metadata": {
        "id": "-DMcBsjLGm2M",
        "colab_type": "text"
      },
      "cell_type": "markdown",
      "source": [
        "**Training and Test data**"
      ]
    },
    {
      "metadata": {
        "id": "JPOjfB9DGYX1",
        "colab_type": "code",
        "colab": {}
      },
      "cell_type": "code",
      "source": [
        "# Training dataset\n",
        "trainX=MNIST.train.images\n",
        "trainY=MNIST.train.labels\n",
        "\n",
        "#Test Data\n",
        "testX=MNIST.test.images\n",
        "testY=MNIST.test.labels"
      ],
      "execution_count": 0,
      "outputs": []
    },
    {
      "metadata": {
        "id": "mGFbfEh_Glum",
        "colab_type": "text"
      },
      "cell_type": "markdown",
      "source": [
        "**Shape of the data**"
      ]
    },
    {
      "metadata": {
        "id": "HpWw4D3UHijs",
        "colab_type": "code",
        "colab": {
          "base_uri": "https://localhost:8080/",
          "height": 85
        },
        "outputId": "4adeb7a0-7883-4225-ad7e-84d2f194f9ad"
      },
      "cell_type": "code",
      "source": [
        "print('Training X size:',trainX.shape)\n",
        "print('Training Y size:',trainY.shape)     #One hot encoded labels\n",
        "\n",
        "print('Test X size:',testX.shape)\n",
        "print('Test Y size:',testY.shape)\n"
      ],
      "execution_count": 4,
      "outputs": [
        {
          "output_type": "stream",
          "text": [
            "Training X size: (55000, 784)\n",
            "Training Y size: (55000, 10)\n",
            "Test X size: (10000, 784)\n",
            "Test Y size: (10000, 10)\n"
          ],
          "name": "stdout"
        }
      ]
    },
    {
      "metadata": {
        "id": "yzQaYBNtITvZ",
        "colab_type": "text"
      },
      "cell_type": "markdown",
      "source": [
        "**How the data looks like?**"
      ]
    },
    {
      "metadata": {
        "id": "RGcHBSJ4HyUp",
        "colab_type": "code",
        "colab": {
          "base_uri": "https://localhost:8080/",
          "height": 149
        },
        "outputId": "97cbb367-cd85-434b-af64-be272dc76daa"
      },
      "cell_type": "code",
      "source": [
        "import matplotlib.pyplot as plt\n",
        "import numpy as np\n",
        "\n",
        "plt.figure(figsize=[20,5])\n",
        "\n",
        "plt.subplots_adjust(hspace=0.2,wspace=0.2)\n",
        "\n",
        "for i in range(1,11):\n",
        "  plt.subplot(1,11,i)\n",
        "  #plt.grid(axis=False)\n",
        "  plt.axis('off')\n",
        "  plt.imshow(np.reshape(trainX[i],(28,28)))\n",
        "  \n",
        "plt.title('How the handwritten images look like')  \n",
        "plt.show()\n"
      ],
      "execution_count": 5,
      "outputs": [
        {
          "output_type": "display_data",
          "data": {
            "image/png": "[encoded data removed]",
            "text/plain": [
              "<matplotlib.figure.Figure at 0x7f62bf61aa20>"
            ]
          },
          "metadata": {
            "tags": []
          }
        }
      ]
    },
    {
      "metadata": {
        "id": "5_WHfsH6LXgD",
        "colab_type": "text"
      },
      "cell_type": "markdown",
      "source": [
        "**Set Random seed**"
      ]
    },
    {
      "metadata": {
        "id": "Aj2PpKsgLdbm",
        "colab_type": "code",
        "colab": {}
      },
      "cell_type": "code",
      "source": [
        "np.random.seed(42)"
      ],
      "execution_count": 0,
      "outputs": []
    },
    {
      "metadata": {
        "id": "6DvF-s0gZBgX",
        "colab_type": "text"
      },
      "cell_type": "markdown",
      "source": [
        "# Build the graph\n",
        "\n",
        "**Using Keras to build the model**\n"
      ]
    },
    {
      "metadata": {
        "id": "uHdHyI-TAzbH",
        "colab_type": "text"
      },
      "cell_type": "markdown",
      "source": [
        "****Network Architecture****\n",
        "![alt text](https://raw.githubusercontent.com/sayakgis/Handwritten_Digit_Prediction_DL/master/Network.JPG)\n"
      ]
    },
    {
      "metadata": {
        "id": "elDhXNeYZSXY",
        "colab_type": "code",
        "colab": {}
      },
      "cell_type": "code",
      "source": [
        "#Sequential model\n",
        "from tensorflow.keras.models import Sequential\n",
        "\n",
        "#Import Keras Layers\n",
        "from tensorflow.keras.layers import MaxPool2D, Conv2D,Dense,Dropout,Reshape,Flatten\n",
        "\n",
        "#Model Check point and Tensor board\n",
        "from tensorflow.keras.callbacks import  ModelCheckpoint,TensorBoard"
      ],
      "execution_count": 0,
      "outputs": []
    },
    {
      "metadata": {
        "id": "mkTNehChs1BT",
        "colab_type": "text"
      },
      "cell_type": "markdown",
      "source": [
        "**Start a Sequential Model**"
      ]
    },
    {
      "metadata": {
        "id": "7VeLUaJ5IcuJ",
        "colab_type": "code",
        "colab": {}
      },
      "cell_type": "code",
      "source": [
        "model=Sequential()"
      ],
      "execution_count": 0,
      "outputs": []
    },
    {
      "metadata": {
        "id": "NKGlewqzs9fl",
        "colab_type": "text"
      },
      "cell_type": "markdown",
      "source": [
        "**Input (Reshape the Data)**"
      ]
    },
    {
      "metadata": {
        "id": "73N8FChltABq",
        "colab_type": "code",
        "colab": {}
      },
      "cell_type": "code",
      "source": [
        "model.add(Reshape((28,28,1),input_shape=(784,)))"
      ],
      "execution_count": 0,
      "outputs": []
    },
    {
      "metadata": {
        "id": "Qcb9-cABtuNq",
        "colab_type": "text"
      },
      "cell_type": "markdown",
      "source": [
        "**Add First Convolution Layer** (32 filters, with 3 by 3 kernel and stride of 1)"
      ]
    },
    {
      "metadata": {
        "id": "ddwTdTBAs7ye",
        "colab_type": "code",
        "colab": {}
      },
      "cell_type": "code",
      "source": [
        "model.add(Conv2D(filters=32,kernel_size=(3,3),strides=(1,1),activation='relu'))"
      ],
      "execution_count": 0,
      "outputs": []
    },
    {
      "metadata": {
        "id": "mdUaugEWu-lE",
        "colab_type": "text"
      },
      "cell_type": "markdown",
      "source": [
        "**Add Second Convolution layer**(64 filters with 3 by 3 kernel and stride of 1)"
      ]
    },
    {
      "metadata": {
        "id": "nrG5zk4-vKQh",
        "colab_type": "code",
        "colab": {}
      },
      "cell_type": "code",
      "source": [
        "model.add(Conv2D(filters=64,kernel_size=(3,3),strides=(1,1),activation='relu'))"
      ],
      "execution_count": 0,
      "outputs": []
    },
    {
      "metadata": {
        "id": "Bczat8GRviH7",
        "colab_type": "text"
      },
      "cell_type": "markdown",
      "source": [
        "**Add Max Pooling Layer **(2 by 2)"
      ]
    },
    {
      "metadata": {
        "id": "5ZCryBFIvq6O",
        "colab_type": "code",
        "colab": {}
      },
      "cell_type": "code",
      "source": [
        "model.add(MaxPool2D(pool_size=(2,2)))"
      ],
      "execution_count": 0,
      "outputs": []
    },
    {
      "metadata": {
        "id": "H94ItP-nwSLM",
        "colab_type": "text"
      },
      "cell_type": "markdown",
      "source": [
        "**Add Drop Out of 25%**"
      ]
    },
    {
      "metadata": {
        "id": "gInB4rnxwdnY",
        "colab_type": "code",
        "colab": {}
      },
      "cell_type": "code",
      "source": [
        "model.add(Dropout(rate=0.25))"
      ],
      "execution_count": 0,
      "outputs": []
    },
    {
      "metadata": {
        "id": "0ojKjsgww22n",
        "colab_type": "text"
      },
      "cell_type": "markdown",
      "source": [
        "**Flatten the image **"
      ]
    },
    {
      "metadata": {
        "id": "MpHQEhgzw634",
        "colab_type": "code",
        "colab": {}
      },
      "cell_type": "code",
      "source": [
        "model.add(Flatten())"
      ],
      "execution_count": 0,
      "outputs": []
    },
    {
      "metadata": {
        "id": "HuapUfnQxE6s",
        "colab_type": "text"
      },
      "cell_type": "markdown",
      "source": [
        "**Add fully connected layer (128 neurons)**"
      ]
    },
    {
      "metadata": {
        "id": "-V0k-kNlxMOU",
        "colab_type": "code",
        "colab": {}
      },
      "cell_type": "code",
      "source": [
        "model.add(Dense(units=128,activation='relu'))"
      ],
      "execution_count": 0,
      "outputs": []
    },
    {
      "metadata": {
        "id": "FAADu89xxrN_",
        "colab_type": "text"
      },
      "cell_type": "markdown",
      "source": [
        "**Add another Drop Out (50%)**"
      ]
    },
    {
      "metadata": {
        "id": "_ITU_l-RxxFU",
        "colab_type": "code",
        "colab": {}
      },
      "cell_type": "code",
      "source": [
        "model.add(Dropout(0.50))"
      ],
      "execution_count": 0,
      "outputs": []
    },
    {
      "metadata": {
        "id": "W7_JdGgwyL21",
        "colab_type": "text"
      },
      "cell_type": "markdown",
      "source": [
        "**Add Softmax**"
      ]
    },
    {
      "metadata": {
        "id": "waJbZn06yFI6",
        "colab_type": "code",
        "colab": {}
      },
      "cell_type": "code",
      "source": [
        "model.add(Dense(10,activation='softmax'))"
      ],
      "execution_count": 0,
      "outputs": []
    },
    {
      "metadata": {
        "id": "m-dIS6eDysgz",
        "colab_type": "text"
      },
      "cell_type": "markdown",
      "source": [
        "**Compile the model**"
      ]
    },
    {
      "metadata": {
        "id": "ZKSRAoKfymlH",
        "colab_type": "code",
        "colab": {}
      },
      "cell_type": "code",
      "source": [
        "model.compile(optimizer='adam',loss='categorical_crossentropy',metrics=['accuracy'])"
      ],
      "execution_count": 0,
      "outputs": []
    },
    {
      "metadata": {
        "id": "R3G-uDql1SkV",
        "colab_type": "text"
      },
      "cell_type": "markdown",
      "source": [
        "**Define Checkpoint based on Best accuracy of test data**"
      ]
    },
    {
      "metadata": {
        "id": "W-c4DfHO1dKE",
        "colab_type": "code",
        "colab": {}
      },
      "cell_type": "code",
      "source": [
        "checkpoint=ModelCheckpoint('mnist_keras_cnn-v1',monitor='val_acc',verbose=1,save_best_only=True,mode='max')"
      ],
      "execution_count": 0,
      "outputs": []
    },
    {
      "metadata": {
        "id": "vEPg0_zl4_zD",
        "colab_type": "text"
      },
      "cell_type": "markdown",
      "source": [
        "**Train and execute the graph**"
      ]
    },
    {
      "metadata": {
        "id": "BYsnIlAq2m7z",
        "colab_type": "code",
        "colab": {}
      },
      "cell_type": "code",
      "source": [
        "model.fit(x=trainX,y=trainY,batch_size=100,epochs=30,validation_data=[testX,testY],callbacks=[checkpoint,TensorBoard(log_dir='')])"
      ],
      "execution_count": 0,
      "outputs": []
    },
    {
      "metadata": {
        "id": "GgPGhEiC8gzX",
        "colab_type": "text"
      },
      "cell_type": "markdown",
      "source": [
        "**Predict the images**"
      ]
    },
    {
      "metadata": {
        "id": "BKiJf1519Rk7",
        "colab_type": "code",
        "colab": {
          "base_uri": "https://localhost:8080/",
          "height": 320
        },
        "outputId": "11537d7c-ed85-4eca-b478-9de66a6b0d2b"
      },
      "cell_type": "code",
      "source": [
        "y_pred=model.predict(testX)\n",
        "\n",
        "\n",
        "plt.figure(figsize=(20,10))\n",
        "plt.subplots_adjust(hspace=0.1,wspace=0.1)\n",
        "\n",
        "array_=np.random.randint(1,8000,11)\n",
        "\n",
        "for i,j in zip(array_,range(1,11)):\n",
        "  plt.subplot(1,10,j)\n",
        "  print('Predicted Number of picture',i,'is==>',np.argmax(y_pred[i]))\n",
        "  plt.imshow(np.reshape(testX[i],(28,28)))\n",
        "  plt.axis('off')\n",
        "  "
      ],
      "execution_count": 21,
      "outputs": [
        {
          "output_type": "stream",
          "text": [
            "Predicted Number of picture 822 is==> 7\n",
            "Predicted Number of picture 6723 is==> 4\n",
            "Predicted Number of picture 5311 is==> 9\n",
            "Predicted Number of picture 6192 is==> 1\n",
            "Predicted Number of picture 3618 is==> 9\n",
            "Predicted Number of picture 7303 is==> 1\n",
            "Predicted Number of picture 135 is==> 1\n",
            "Predicted Number of picture 7685 is==> 2\n",
            "Predicted Number of picture 6691 is==> 6\n",
            "Predicted Number of picture 5282 is==> 2\n"
          ],
          "name": "stdout"
        },
        {
          "output_type": "display_data",
          "data": {
            "image/png": "[encoded data removed]",
            "text/plain": [
              "<matplotlib.figure.Figure at 0x7fa213c1d5f8>"
            ]
          },
          "metadata": {
            "tags": []
          }
        }
      ]
    },
    {
      "metadata": {
        "id": "16oG7S1TnLU9",
        "colab_type": "text"
      },
      "cell_type": "markdown",
      "source": [
        "**Lets check some wrong predictions**"
      ]
    },
    {
      "metadata": {
        "id": "skzScb5y-CXl",
        "colab_type": "code",
        "colab": {}
      },
      "cell_type": "code",
      "source": [
        "import pandas as pd"
      ],
      "execution_count": 0,
      "outputs": []
    },
    {
      "metadata": {
        "id": "5uNm7P9BnWlF",
        "colab_type": "code",
        "colab": {
          "base_uri": "https://localhost:8080/",
          "height": 195
        },
        "outputId": "7711a916-ed6d-4868-f1a3-2d6a6f2ecf40"
      },
      "cell_type": "code",
      "source": [
        "df_compare=pd.DataFrame([np.argmax(y_pred,axis=1),np.argmax(testY,axis=1)]).T\n",
        "df_compare.head()"
      ],
      "execution_count": 23,
      "outputs": [
        {
          "output_type": "execute_result",
          "data": {
            "text/html": [
              "<div>\n",
              "<style scoped>\n",
              "    .dataframe tbody tr th:only-of-type {\n",
              "        vertical-align: middle;\n",
              "    }\n",
              "\n",
              "    .dataframe tbody tr th {\n",
              "        vertical-align: top;\n",
              "    }\n",
              "\n",
              "    .dataframe thead th {\n",
              "        text-align: right;\n",
              "    }\n",
              "</style>\n",
              "<table border=\"1\" class=\"dataframe\">\n",
              "  <thead>\n",
              "    <tr style=\"text-align: right;\">\n",
              "      <th></th>\n",
              "      <th>0</th>\n",
              "      <th>1</th>\n",
              "    </tr>\n",
              "  </thead>\n",
              "  <tbody>\n",
              "    <tr>\n",
              "      <th>0</th>\n",
              "      <td>7</td>\n",
              "      <td>7</td>\n",
              "    </tr>\n",
              "    <tr>\n",
              "      <th>1</th>\n",
              "      <td>2</td>\n",
              "      <td>2</td>\n",
              "    </tr>\n",
              "    <tr>\n",
              "      <th>2</th>\n",
              "      <td>1</td>\n",
              "      <td>1</td>\n",
              "    </tr>\n",
              "    <tr>\n",
              "      <th>3</th>\n",
              "      <td>0</td>\n",
              "      <td>0</td>\n",
              "    </tr>\n",
              "    <tr>\n",
              "      <th>4</th>\n",
              "      <td>4</td>\n",
              "      <td>4</td>\n",
              "    </tr>\n",
              "  </tbody>\n",
              "</table>\n",
              "</div>"
            ],
            "text/plain": [
              "   0  1\n",
              "0  7  7\n",
              "1  2  2\n",
              "2  1  1\n",
              "3  0  0\n",
              "4  4  4"
            ]
          },
          "metadata": {
            "tags": []
          },
          "execution_count": 23
        }
      ]
    },
    {
      "metadata": {
        "id": "KYRzVzwu3jWQ",
        "colab_type": "code",
        "colab": {
          "base_uri": "https://localhost:8080/",
          "height": 34
        },
        "outputId": "395b1a35-6b0c-45c5-b54e-0d5ec48c950b"
      },
      "cell_type": "code",
      "source": [
        "df_wrong=df_compare[df_compare[0]!=df_compare[1]]\n",
        "print('Number of wrong predictions:',df_wrong.shape[0])"
      ],
      "execution_count": 24,
      "outputs": [
        {
          "output_type": "stream",
          "text": [
            "Number of wrong predictions: 81\n"
          ],
          "name": "stdout"
        }
      ]
    },
    {
      "metadata": {
        "id": "lQF_G0U98T3H",
        "colab_type": "code",
        "colab": {
          "base_uri": "https://localhost:8080/",
          "height": 333
        },
        "outputId": "97bc187b-f32f-4ec0-9d1a-19c5301f8253"
      },
      "cell_type": "code",
      "source": [
        "plt.figure(figsize=(20,10))\n",
        "plt.subplots_adjust(hspace=0.1,wspace=0.1)\n",
        "\n",
        "ind=np.array(df_wrong.index[1:11])\n",
        "\n",
        "\n",
        "for i, j in zip(ind,range(1,11)):\n",
        "  plt.subplot(1,10,j)\n",
        "  print('Predicted Number of picture number:',i,'is==>',np.argmax(y_pred[i]))\n",
        "  plt.imshow(np.reshape(testX[i],(28,28)))\n",
        "  plt.axis('off')\n",
        "  plt.title('Wrong predictions')"
      ],
      "execution_count": 25,
      "outputs": [
        {
          "output_type": "stream",
          "text": [
            "Predicted Number of picture number: 321 is==> 7\n",
            "Predicted Number of picture number: 340 is==> 3\n",
            "Predicted Number of picture number: 449 is==> 5\n",
            "Predicted Number of picture number: 582 is==> 2\n",
            "Predicted Number of picture number: 717 is==> 6\n",
            "Predicted Number of picture number: 846 is==> 9\n",
            "Predicted Number of picture number: 938 is==> 5\n",
            "Predicted Number of picture number: 947 is==> 9\n",
            "Predicted Number of picture number: 1014 is==> 5\n",
            "Predicted Number of picture number: 1112 is==> 6\n"
          ],
          "name": "stdout"
        },
        {
          "output_type": "display_data",
          "data": {
            "image/png": "[encoded data removed]",
            "text/plain": [
              "<matplotlib.figure.Figure at 0x7fa1f8caf438>"
            ]
          },
          "metadata": {
            "tags": []
          }
        }
      ]
    },
    {
      "metadata": {
        "id": "l0Gffqg79A2n",
        "colab_type": "code",
        "colab": {}
      },
      "cell_type": "code",
      "source": [
        ""
      ],
      "execution_count": 0,
      "outputs": []
    }
  ]
}